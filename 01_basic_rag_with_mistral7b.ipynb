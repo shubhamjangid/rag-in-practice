{
 "cells": [
  {
   "cell_type": "markdown",
   "metadata": {},
   "source": [
    "# Overview\n",
    "\n",
    "Issues with LLMs\n",
    "\n",
    "* LLMs may not always have access to specific or up-to-date context.\n",
    "* When lacking proper context, LLMs are prone to hallucinations.\n",
    "\n",
    "\n",
    "\n",
    "How to Fix This\n",
    "\n",
    "Option 1: Fine-Tune the Model\n",
    "* Train the LLM on your latest domain-specific data to improve relevance.\n",
    "* However, there are challenges:\n",
    "    * Repeated fine-tuning can cause model drift.\n",
    "    * Fine-tuning is complex, time-consuming, and costly.\n",
    "\n",
    "Option 2: Use RAG (Retrieval-Augmented Generation)\n",
    "* Instead of modifying the model, RAG injects relevant external knowledge at query time.\n",
    "* This gives the model access to fresh, specific, and controllable context — without retraining."
   ]
  },
  {
   "cell_type": "markdown",
   "metadata": {
    "id": "ANCEEXXCy6XQ"
   },
   "source": [
    "#Notebook Config"
   ]
  },
  {
   "cell_type": "code",
   "execution_count": 3,
   "metadata": {
    "colab": {
     "base_uri": "https://localhost:8080/"
    },
    "id": "uA6ep18xN02e",
    "outputId": "d3544c8d-e034-4145-83ce-3f5db12e939b"
   },
   "outputs": [
    {
     "name": "stdout",
     "output_type": "stream",
     "text": [
      "Mounted at /content/drive\n"
     ]
    }
   ],
   "source": [
    "from google.colab import drive\n",
    "drive.mount('/content/drive')"
   ]
  },
  {
   "cell_type": "code",
   "execution_count": 4,
   "metadata": {
    "colab": {
     "base_uri": "https://localhost:8080/"
    },
    "collapsed": true,
    "id": "hRB0UDmZMe1N",
    "outputId": "302deb31-d234-4c07-89a6-8edccaf76212"
   },
   "outputs": [
    {
     "name": "stdout",
     "output_type": "stream",
     "text": [
      "\u001b[2K     \u001b[90m━━━━━━━━━━━━━━━━━━━━━━━━━━━━━━━━━━━━━━━━\u001b[0m \u001b[32m51.0/51.0 MB\u001b[0m \u001b[31m18.7 MB/s\u001b[0m eta \u001b[36m0:00:00\u001b[0m\n",
      "\u001b[?25h  Installing build dependencies ... \u001b[?25l\u001b[?25hdone\n",
      "  Getting requirements to build wheel ... \u001b[?25l\u001b[?25hdone\n",
      "  Installing backend dependencies ... \u001b[?25l\u001b[?25hdone\n",
      "  Preparing metadata (pyproject.toml) ... \u001b[?25l\u001b[?25hdone\n",
      "\u001b[2K   \u001b[90m━━━━━━━━━━━━━━━━━━━━━━━━━━━━━━━━━━━━━━━━\u001b[0m \u001b[32m2.5/2.5 MB\u001b[0m \u001b[31m62.9 MB/s\u001b[0m eta \u001b[36m0:00:00\u001b[0m\n",
      "\u001b[2K   \u001b[90m━━━━━━━━━━━━━━━━━━━━━━━━━━━━━━━━━━━━━━━━\u001b[0m \u001b[32m31.3/31.3 MB\u001b[0m \u001b[31m58.5 MB/s\u001b[0m eta \u001b[36m0:00:00\u001b[0m\n",
      "\u001b[2K   \u001b[90m━━━━━━━━━━━━━━━━━━━━━━━━━━━━━━━━━━━━━━━━\u001b[0m \u001b[32m45.5/45.5 kB\u001b[0m \u001b[31m2.9 MB/s\u001b[0m eta \u001b[36m0:00:00\u001b[0m\n",
      "\u001b[2K   \u001b[90m━━━━━━━━━━━━━━━━━━━━━━━━━━━━━━━━━━━━━━━━\u001b[0m \u001b[32m45.2/45.2 kB\u001b[0m \u001b[31m2.9 MB/s\u001b[0m eta \u001b[36m0:00:00\u001b[0m\n",
      "\u001b[2K   \u001b[90m━━━━━━━━━━━━━━━━━━━━━━━━━━━━━━━━━━━━━━━━\u001b[0m \u001b[32m50.9/50.9 kB\u001b[0m \u001b[31m3.2 MB/s\u001b[0m eta \u001b[36m0:00:00\u001b[0m\n",
      "\u001b[?25h  Building wheel for llama-cpp-python (pyproject.toml) ... \u001b[?25l\u001b[?25hdone\n"
     ]
    }
   ],
   "source": [
    "!pip install huggingface_hub langchain_community llama-cpp-python faiss-cpu --quiet"
   ]
  },
  {
   "cell_type": "code",
   "execution_count": 5,
   "metadata": {
    "id": "cZmpN69cy91E"
   },
   "outputs": [],
   "source": [
    "from langchain.llms import LlamaCpp\n",
    "from langchain.schema import Document\n",
    "from langchain.text_splitter import RecursiveCharacterTextSplitter\n",
    "from langchain.vectorstores import FAISS\n",
    "from langchain.embeddings import HuggingFaceEmbeddings\n",
    "from langchain.chains import RetrievalQA\n",
    "\n",
    "from transformers import AutoTokenizer\n",
    "from huggingface_hub import hf_hub_download\n",
    "import pandas as pd\n",
    "import matplotlib.pyplot as plt\n",
    "\n",
    "input_path = r\"/content/drive/MyDrive/Colab Notebooks/NLP/rag/data\""
   ]
  },
  {
   "cell_type": "code",
   "execution_count": 5,
   "metadata": {
    "id": "byHjHPDSzNhN"
   },
   "outputs": [],
   "source": []
  },
  {
   "cell_type": "markdown",
   "metadata": {
    "id": "lqwXPfKLLH2Z"
   },
   "source": [
    "# LLM"
   ]
  },
  {
   "cell_type": "code",
   "execution_count": 6,
   "metadata": {
    "colab": {
     "base_uri": "https://localhost:8080/",
     "height": 177,
     "referenced_widgets": [
      "be61b763a077410e8e09f1447f7cd7f0",
      "6ce5a66fd0ac4e089b19e5a94840508e",
      "93d6f5624ba14d66a4afb5a8ea506894",
      "fd09ff255952496688b659282043624e",
      "2918d077572c49788d2366f521f0a744",
      "0369a89e64f246e49ffda0c386425964",
      "924c80a84e944249b5318eef683c4cab",
      "258bd519f2744d15941130c8280f238a",
      "2e5ae91225224d9ea23e69498882608b",
      "84ae256a8b73486fa74c4967d31a1f1d",
      "2f1d1706ede64eab845cc779cf72872c"
     ]
    },
    "id": "xiUvGHCBMeyB",
    "outputId": "9e1d46ae-1e3f-41b4-eed6-f0cd6c3bc420"
   },
   "outputs": [
    {
     "name": "stderr",
     "output_type": "stream",
     "text": [
      "/usr/local/lib/python3.11/dist-packages/huggingface_hub/utils/_auth.py:94: UserWarning: \n",
      "The secret `HF_TOKEN` does not exist in your Colab secrets.\n",
      "To authenticate with the Hugging Face Hub, create a token in your settings tab (https://huggingface.co/settings/tokens), set it as secret in your Google Colab and restart your session.\n",
      "You will be able to reuse this secret in all of your notebooks.\n",
      "Please note that authentication is recommended but still optional to access public models or datasets.\n",
      "  warnings.warn(\n"
     ]
    },
    {
     "data": {
      "application/vnd.jupyter.widget-view+json": {
       "model_id": "be61b763a077410e8e09f1447f7cd7f0",
       "version_major": 2,
       "version_minor": 0
      },
      "text/plain": [
       "mistral-7b-instruct-v0.1.Q4_K_M.gguf:   0%|          | 0.00/4.37G [00:00<?, ?B/s]"
      ]
     },
     "metadata": {},
     "output_type": "display_data"
    }
   ],
   "source": [
    "model_id = \"TheBloke/Mistral-7B-Instruct-v0.1-GGUF\"\n",
    "filename = \"mistral-7b-instruct-v0.1.Q4_K_M.gguf\"\n",
    "\n",
    "download_path = hf_hub_download(\n",
    "    repo_id=model_id,\n",
    "    filename=filename,\n",
    "    cache_dir=\"./models\"\n",
    ")"
   ]
  },
  {
   "cell_type": "code",
   "execution_count": 7,
   "metadata": {
    "colab": {
     "base_uri": "https://localhost:8080/"
    },
    "id": "TrG6AQZxMevR",
    "outputId": "5f4b0519-027a-4b30-eab1-e1fd9a5ef81e"
   },
   "outputs": [
    {
     "name": "stderr",
     "output_type": "stream",
     "text": [
      "llama_context: n_batch is less than GGML_KQ_MASK_PAD - increasing to 64\n",
      "llama_context: n_ctx_per_seq (1024) < n_ctx_train (32768) -- the full capacity of the model will not be utilized\n",
      "llama_kv_cache_unified: LLAMA_SET_ROWS=0, using old ggml_cpy() method for backwards compatibility\n"
     ]
    }
   ],
   "source": [
    "llm = LlamaCpp(\n",
    "    model_path=download_path,\n",
    "    temperature=0.1, # controls randomness, lesser value provides more deterministic output\n",
    "    max_tokens=128,  # Max tokens to generate (output)\n",
    "    n_ctx=1024,      # Total context window (input + output)\n",
    "    verbose=False\n",
    ")"
   ]
  },
  {
   "cell_type": "code",
   "execution_count": null,
   "metadata": {
    "id": "rio8E-g7LJ-C"
   },
   "outputs": [],
   "source": []
  },
  {
   "cell_type": "markdown",
   "metadata": {
    "id": "keiG01-n2rPK"
   },
   "source": [
    "# Why provide additional context to an LLM?"
   ]
  },
  {
   "cell_type": "code",
   "execution_count": 8,
   "metadata": {
    "colab": {
     "base_uri": "https://localhost:8080/"
    },
    "id": "de-OPQd2THMQ",
    "outputId": "d34d4e76-0376-4347-ab3c-7154019f89d0"
   },
   "outputs": [
    {
     "name": "stdout",
     "output_type": "stream",
     "text": [
      "LLM output without context --->\n",
      "\n",
      "Answer: Section 120B of the Indian Penal Code\n",
      "\n",
      "\n",
      "\n",
      "LLM output when provided with context --->\n",
      "\n",
      "Answer: Section 140 of the Indian Penal Code.\n"
     ]
    }
   ],
   "source": [
    "question = \"Which section of the IPC deals with the offense of wearing the garb or carrying a token used by a soldier, sailor, or airman of the Indian armed forces, while not being one?\"\n",
    "\n",
    "context = \"According to section 140 of Indian penal code, Whoever, not being a soldier, sailor or airman in the Military, Naval or Air service of the Government of India, wears any garb or carries any token resembling any garb or token used by such a soldier, sailor or airman with the intention that it may be believed that he is such a soldier, sailor or airman, shall be punished with imprisonment of either description for a term which may extend to three months, or with fine which may extend to five hundred rupees, or with both.\"\n",
    "\n",
    "print(\"LLM output without context --->\")\n",
    "print(llm.invoke(question))\n",
    "\n",
    "print(\"\\n\\n\")\n",
    "\n",
    "print(\"LLM output when provided with context --->\")\n",
    "print(llm.invoke(f\"Use this context to answer the question: {context}. Question: {question}\"))"
   ]
  },
  {
   "cell_type": "code",
   "execution_count": 8,
   "metadata": {
    "id": "ffJ9N3L7Mepb"
   },
   "outputs": [],
   "source": []
  },
  {
   "cell_type": "markdown",
   "metadata": {
    "id": "56W9Ty5f4HR-"
   },
   "source": [
    "# Data"
   ]
  },
  {
   "cell_type": "code",
   "execution_count": 9,
   "metadata": {
    "colab": {
     "base_uri": "https://localhost:8080/",
     "height": 224
    },
    "id": "avcvgG9U4Gb6",
    "outputId": "434743b0-59f0-4d75-e593-c5acfc610016"
   },
   "outputs": [
    {
     "name": "stdout",
     "output_type": "stream",
     "text": [
      "(444, 4)\n"
     ]
    },
    {
     "data": {
      "application/vnd.google.colaboratory.intrinsic+json": {
       "summary": "{\n  \"name\": \"ipc_df\",\n  \"rows\": 444,\n  \"fields\": [\n    {\n      \"column\": \"Description\",\n      \"properties\": {\n        \"dtype\": \"string\",\n        \"num_unique_values\": 442,\n        \"samples\": [\n          \"Description of IPC Section 372\\nAccording to section 372 of Indian penal code, Whoever sells, lets to hire, or otherwise disposes of any person under the age of eighteen years with intent that such person shall at any age be employed or used for the purpose of prostitution or illicit intercourse with any person or for any unlawful and immoral purpose, or knowing it to be likely that such person will at any age be employed or used for any such purpose, shall be punished with imprisonment of either description for a term which may extend to ten years, and shall also be liable to fine.\\n\\n\\nIPC 372 in Simple Words\\nIn the Indian Penal Code, anyone who sells, rents out, or transfers a person under 18 years of age with the intention of using them for prostitution, illicit intercourse, or any unlawful and immoral purpose, can be punished with imprisonment for up to ten years and fined.\",\n          \"Description of IPC Section 307\\nAccording to section 307 of Indian penal code, Whoever does any act with such intention or knowledge, and under such circumstances that, if he by that act caused death, he would be guilty of murder, shall be punished with imprisonment of either description for a term which may extend to ten years, and shall also be liable to fine; and, if hurt is caused to any person by such act, the offender shall be liable either to imprisonment for life, or to such punishment as is hereinbefore mentioned.\\nAttempts by Life Convicts: When any person offending under this section is under sentence of imprisonment for life, he may, if hurt is caused, be punished with death.\\n\\n\\nIPC 307 in Simple Words\\nSection 307 of the Indian Penal Code states that if someone does an act with the intention or knowledge that, if it caused death, it would be considered murder, they can be punished with imprisonment for up to ten years, and may also be fined; if the act causes hurt to any person, the offender may be sentenced to life imprisonment or the punishment mentioned before, and if the offender is already serving life imprisonment, they can be punished with death if hurt is caused.\",\n          \"Description of IPC Section 185\\nAccording to section 185 of Indian penal code, Whoever, at any sale of property held by the lawful authority of a public servant, as such, purchases or bids for any property on account of any person, whether himself or any other, whom he knows to be under a legal incapacity to purchase that property at that sale, or bids for such property not intending to perform the obligations under which he lays himself by such bidding, shall be punished with imprisonment of either description for a term which may extend to one month, or with fine which may extend to two hundred rupees, or with both.\\n\\n\\nIPC 185 in Simple Words\\nIn simple words, Section 185 of the Indian Penal Code states that if someone purchases or bids for property at a public sale on behalf of a person who is legally not allowed to do so or bids without intending to fulfill the obligations, they may be punished with imprisonment, fine, or both, for a maximum of one month.\"\n        ],\n        \"semantic_type\": \"\",\n        \"description\": \"\"\n      }\n    },\n    {\n      \"column\": \"Offense\",\n      \"properties\": {\n        \"dtype\": \"string\",\n        \"num_unique_values\": 382,\n        \"samples\": [\n          \"Murder in Dacoity\",\n          \"Procuration of minor girl\",\n          \"Voluntarily causing grievous hurt to deter public servant from his duty\"\n        ],\n        \"semantic_type\": \"\",\n        \"description\": \"\"\n      }\n    },\n    {\n      \"column\": \"Punishment\",\n      \"properties\": {\n        \"dtype\": \"category\",\n        \"num_unique_values\": 82,\n        \"samples\": [\n          \"5 Years + Fine\",\n          \"3 Months or Fine or Both\",\n          \"Simple Imprisonment for 3 Months or Fine or Both\"\n        ],\n        \"semantic_type\": \"\",\n        \"description\": \"\"\n      }\n    },\n    {\n      \"column\": \"Section\",\n      \"properties\": {\n        \"dtype\": \"string\",\n        \"num_unique_values\": 442,\n        \"samples\": [\n          \"IPC_372\",\n          \"IPC_307\",\n          \"IPC_185\"\n        ],\n        \"semantic_type\": \"\",\n        \"description\": \"\"\n      }\n    }\n  ]\n}",
       "type": "dataframe",
       "variable_name": "ipc_df"
      },
      "text/html": [
       "\n",
       "  <div id=\"df-3419a4da-b33a-4822-92a7-dd9f31664677\" class=\"colab-df-container\">\n",
       "    <div>\n",
       "<style scoped>\n",
       "    .dataframe tbody tr th:only-of-type {\n",
       "        vertical-align: middle;\n",
       "    }\n",
       "\n",
       "    .dataframe tbody tr th {\n",
       "        vertical-align: top;\n",
       "    }\n",
       "\n",
       "    .dataframe thead th {\n",
       "        text-align: right;\n",
       "    }\n",
       "</style>\n",
       "<table border=\"1\" class=\"dataframe\">\n",
       "  <thead>\n",
       "    <tr style=\"text-align: right;\">\n",
       "      <th></th>\n",
       "      <th>Description</th>\n",
       "      <th>Offense</th>\n",
       "      <th>Punishment</th>\n",
       "      <th>Section</th>\n",
       "    </tr>\n",
       "  </thead>\n",
       "  <tbody>\n",
       "    <tr>\n",
       "      <th>0</th>\n",
       "      <td>Description of IPC Section 140\\nAccording to s...</td>\n",
       "      <td>Wearing the dress or carrying any token used b...</td>\n",
       "      <td>3 Months or Fine or Both</td>\n",
       "      <td>IPC_140</td>\n",
       "    </tr>\n",
       "    <tr>\n",
       "      <th>1</th>\n",
       "      <td>Description of IPC Section 127\\nAccording to s...</td>\n",
       "      <td>Receiving property taken by war or depredation...</td>\n",
       "      <td>7 Years + Fine + forfeiture of property</td>\n",
       "      <td>IPC_127</td>\n",
       "    </tr>\n",
       "    <tr>\n",
       "      <th>2</th>\n",
       "      <td>Description of IPC Section 128\\nAccording to s...</td>\n",
       "      <td>Public servant voluntarily allowing prisoner o...</td>\n",
       "      <td>Imprisonment for Life or 10 Years + Fine</td>\n",
       "      <td>IPC_128</td>\n",
       "    </tr>\n",
       "    <tr>\n",
       "      <th>3</th>\n",
       "      <td>Description of IPC Section 129\\nAccording to s...</td>\n",
       "      <td>Public servant negligently suffering prisoner ...</td>\n",
       "      <td>Simple Imprisonment 3 Years + Fine</td>\n",
       "      <td>IPC_129</td>\n",
       "    </tr>\n",
       "    <tr>\n",
       "      <th>4</th>\n",
       "      <td>Description of IPC Section 130\\nAccording to s...</td>\n",
       "      <td>Aiding escape of, rescuing or harbouring, such...</td>\n",
       "      <td>Imprisonment for Life or 10 Years + Fine</td>\n",
       "      <td>IPC_130</td>\n",
       "    </tr>\n",
       "  </tbody>\n",
       "</table>\n",
       "</div>\n",
       "    <div class=\"colab-df-buttons\">\n",
       "\n",
       "  <div class=\"colab-df-container\">\n",
       "    <button class=\"colab-df-convert\" onclick=\"convertToInteractive('df-3419a4da-b33a-4822-92a7-dd9f31664677')\"\n",
       "            title=\"Convert this dataframe to an interactive table.\"\n",
       "            style=\"display:none;\">\n",
       "\n",
       "  <svg xmlns=\"http://www.w3.org/2000/svg\" height=\"24px\" viewBox=\"0 -960 960 960\">\n",
       "    <path d=\"M120-120v-720h720v720H120Zm60-500h600v-160H180v160Zm220 220h160v-160H400v160Zm0 220h160v-160H400v160ZM180-400h160v-160H180v160Zm440 0h160v-160H620v160ZM180-180h160v-160H180v160Zm440 0h160v-160H620v160Z\"/>\n",
       "  </svg>\n",
       "    </button>\n",
       "\n",
       "  <style>\n",
       "    .colab-df-container {\n",
       "      display:flex;\n",
       "      gap: 12px;\n",
       "    }\n",
       "\n",
       "    .colab-df-convert {\n",
       "      background-color: #E8F0FE;\n",
       "      border: none;\n",
       "      border-radius: 50%;\n",
       "      cursor: pointer;\n",
       "      display: none;\n",
       "      fill: #1967D2;\n",
       "      height: 32px;\n",
       "      padding: 0 0 0 0;\n",
       "      width: 32px;\n",
       "    }\n",
       "\n",
       "    .colab-df-convert:hover {\n",
       "      background-color: #E2EBFA;\n",
       "      box-shadow: 0px 1px 2px rgba(60, 64, 67, 0.3), 0px 1px 3px 1px rgba(60, 64, 67, 0.15);\n",
       "      fill: #174EA6;\n",
       "    }\n",
       "\n",
       "    .colab-df-buttons div {\n",
       "      margin-bottom: 4px;\n",
       "    }\n",
       "\n",
       "    [theme=dark] .colab-df-convert {\n",
       "      background-color: #3B4455;\n",
       "      fill: #D2E3FC;\n",
       "    }\n",
       "\n",
       "    [theme=dark] .colab-df-convert:hover {\n",
       "      background-color: #434B5C;\n",
       "      box-shadow: 0px 1px 3px 1px rgba(0, 0, 0, 0.15);\n",
       "      filter: drop-shadow(0px 1px 2px rgba(0, 0, 0, 0.3));\n",
       "      fill: #FFFFFF;\n",
       "    }\n",
       "  </style>\n",
       "\n",
       "    <script>\n",
       "      const buttonEl =\n",
       "        document.querySelector('#df-3419a4da-b33a-4822-92a7-dd9f31664677 button.colab-df-convert');\n",
       "      buttonEl.style.display =\n",
       "        google.colab.kernel.accessAllowed ? 'block' : 'none';\n",
       "\n",
       "      async function convertToInteractive(key) {\n",
       "        const element = document.querySelector('#df-3419a4da-b33a-4822-92a7-dd9f31664677');\n",
       "        const dataTable =\n",
       "          await google.colab.kernel.invokeFunction('convertToInteractive',\n",
       "                                                    [key], {});\n",
       "        if (!dataTable) return;\n",
       "\n",
       "        const docLinkHtml = 'Like what you see? Visit the ' +\n",
       "          '<a target=\"_blank\" href=https://colab.research.google.com/notebooks/data_table.ipynb>data table notebook</a>'\n",
       "          + ' to learn more about interactive tables.';\n",
       "        element.innerHTML = '';\n",
       "        dataTable['output_type'] = 'display_data';\n",
       "        await google.colab.output.renderOutput(dataTable, element);\n",
       "        const docLink = document.createElement('div');\n",
       "        docLink.innerHTML = docLinkHtml;\n",
       "        element.appendChild(docLink);\n",
       "      }\n",
       "    </script>\n",
       "  </div>\n",
       "\n",
       "\n",
       "    <div id=\"df-696ea6f7-6f14-46e0-ae37-e13f1330e72e\">\n",
       "      <button class=\"colab-df-quickchart\" onclick=\"quickchart('df-696ea6f7-6f14-46e0-ae37-e13f1330e72e')\"\n",
       "                title=\"Suggest charts\"\n",
       "                style=\"display:none;\">\n",
       "\n",
       "<svg xmlns=\"http://www.w3.org/2000/svg\" height=\"24px\"viewBox=\"0 0 24 24\"\n",
       "     width=\"24px\">\n",
       "    <g>\n",
       "        <path d=\"M19 3H5c-1.1 0-2 .9-2 2v14c0 1.1.9 2 2 2h14c1.1 0 2-.9 2-2V5c0-1.1-.9-2-2-2zM9 17H7v-7h2v7zm4 0h-2V7h2v10zm4 0h-2v-4h2v4z\"/>\n",
       "    </g>\n",
       "</svg>\n",
       "      </button>\n",
       "\n",
       "<style>\n",
       "  .colab-df-quickchart {\n",
       "      --bg-color: #E8F0FE;\n",
       "      --fill-color: #1967D2;\n",
       "      --hover-bg-color: #E2EBFA;\n",
       "      --hover-fill-color: #174EA6;\n",
       "      --disabled-fill-color: #AAA;\n",
       "      --disabled-bg-color: #DDD;\n",
       "  }\n",
       "\n",
       "  [theme=dark] .colab-df-quickchart {\n",
       "      --bg-color: #3B4455;\n",
       "      --fill-color: #D2E3FC;\n",
       "      --hover-bg-color: #434B5C;\n",
       "      --hover-fill-color: #FFFFFF;\n",
       "      --disabled-bg-color: #3B4455;\n",
       "      --disabled-fill-color: #666;\n",
       "  }\n",
       "\n",
       "  .colab-df-quickchart {\n",
       "    background-color: var(--bg-color);\n",
       "    border: none;\n",
       "    border-radius: 50%;\n",
       "    cursor: pointer;\n",
       "    display: none;\n",
       "    fill: var(--fill-color);\n",
       "    height: 32px;\n",
       "    padding: 0;\n",
       "    width: 32px;\n",
       "  }\n",
       "\n",
       "  .colab-df-quickchart:hover {\n",
       "    background-color: var(--hover-bg-color);\n",
       "    box-shadow: 0 1px 2px rgba(60, 64, 67, 0.3), 0 1px 3px 1px rgba(60, 64, 67, 0.15);\n",
       "    fill: var(--button-hover-fill-color);\n",
       "  }\n",
       "\n",
       "  .colab-df-quickchart-complete:disabled,\n",
       "  .colab-df-quickchart-complete:disabled:hover {\n",
       "    background-color: var(--disabled-bg-color);\n",
       "    fill: var(--disabled-fill-color);\n",
       "    box-shadow: none;\n",
       "  }\n",
       "\n",
       "  .colab-df-spinner {\n",
       "    border: 2px solid var(--fill-color);\n",
       "    border-color: transparent;\n",
       "    border-bottom-color: var(--fill-color);\n",
       "    animation:\n",
       "      spin 1s steps(1) infinite;\n",
       "  }\n",
       "\n",
       "  @keyframes spin {\n",
       "    0% {\n",
       "      border-color: transparent;\n",
       "      border-bottom-color: var(--fill-color);\n",
       "      border-left-color: var(--fill-color);\n",
       "    }\n",
       "    20% {\n",
       "      border-color: transparent;\n",
       "      border-left-color: var(--fill-color);\n",
       "      border-top-color: var(--fill-color);\n",
       "    }\n",
       "    30% {\n",
       "      border-color: transparent;\n",
       "      border-left-color: var(--fill-color);\n",
       "      border-top-color: var(--fill-color);\n",
       "      border-right-color: var(--fill-color);\n",
       "    }\n",
       "    40% {\n",
       "      border-color: transparent;\n",
       "      border-right-color: var(--fill-color);\n",
       "      border-top-color: var(--fill-color);\n",
       "    }\n",
       "    60% {\n",
       "      border-color: transparent;\n",
       "      border-right-color: var(--fill-color);\n",
       "    }\n",
       "    80% {\n",
       "      border-color: transparent;\n",
       "      border-right-color: var(--fill-color);\n",
       "      border-bottom-color: var(--fill-color);\n",
       "    }\n",
       "    90% {\n",
       "      border-color: transparent;\n",
       "      border-bottom-color: var(--fill-color);\n",
       "    }\n",
       "  }\n",
       "</style>\n",
       "\n",
       "      <script>\n",
       "        async function quickchart(key) {\n",
       "          const quickchartButtonEl =\n",
       "            document.querySelector('#' + key + ' button');\n",
       "          quickchartButtonEl.disabled = true;  // To prevent multiple clicks.\n",
       "          quickchartButtonEl.classList.add('colab-df-spinner');\n",
       "          try {\n",
       "            const charts = await google.colab.kernel.invokeFunction(\n",
       "                'suggestCharts', [key], {});\n",
       "          } catch (error) {\n",
       "            console.error('Error during call to suggestCharts:', error);\n",
       "          }\n",
       "          quickchartButtonEl.classList.remove('colab-df-spinner');\n",
       "          quickchartButtonEl.classList.add('colab-df-quickchart-complete');\n",
       "        }\n",
       "        (() => {\n",
       "          let quickchartButtonEl =\n",
       "            document.querySelector('#df-696ea6f7-6f14-46e0-ae37-e13f1330e72e button');\n",
       "          quickchartButtonEl.style.display =\n",
       "            google.colab.kernel.accessAllowed ? 'block' : 'none';\n",
       "        })();\n",
       "      </script>\n",
       "    </div>\n",
       "\n",
       "    </div>\n",
       "  </div>\n"
      ],
      "text/plain": [
       "                                         Description  \\\n",
       "0  Description of IPC Section 140\\nAccording to s...   \n",
       "1  Description of IPC Section 127\\nAccording to s...   \n",
       "2  Description of IPC Section 128\\nAccording to s...   \n",
       "3  Description of IPC Section 129\\nAccording to s...   \n",
       "4  Description of IPC Section 130\\nAccording to s...   \n",
       "\n",
       "                                             Offense  \\\n",
       "0  Wearing the dress or carrying any token used b...   \n",
       "1  Receiving property taken by war or depredation...   \n",
       "2  Public servant voluntarily allowing prisoner o...   \n",
       "3  Public servant negligently suffering prisoner ...   \n",
       "4  Aiding escape of, rescuing or harbouring, such...   \n",
       "\n",
       "                                 Punishment  Section  \n",
       "0                  3 Months or Fine or Both  IPC_140  \n",
       "1   7 Years + Fine + forfeiture of property  IPC_127  \n",
       "2  Imprisonment for Life or 10 Years + Fine  IPC_128  \n",
       "3        Simple Imprisonment 3 Years + Fine  IPC_129  \n",
       "4  Imprisonment for Life or 10 Years + Fine  IPC_130  "
      ]
     },
     "execution_count": 9,
     "metadata": {},
     "output_type": "execute_result"
    }
   ],
   "source": [
    "ipc_df = pd.read_csv(f\"{input_path}/ipc_sections.csv\")\n",
    "\n",
    "print(ipc_df.shape)\n",
    "ipc_df.head()"
   ]
  },
  {
   "cell_type": "code",
   "execution_count": 10,
   "metadata": {
    "colab": {
     "base_uri": "https://localhost:8080/"
    },
    "id": "UlnDAiFR5N9v",
    "outputId": "dfd874fe-d44a-4735-d0e0-d006cd70edf0"
   },
   "outputs": [
    {
     "name": "stdout",
     "output_type": "stream",
     "text": [
      "Description of IPC Section 140\n",
      "According to section 140 of Indian penal code, Whoever, not being a soldier, sailor or airman in the Military, Naval or Air service of the Government of India, wears any garb or carries any token resembling any garb or token used by such a soldier, sailor or airman with the intention that it may be believed that he is such a soldier, sailor or airman, shall be punished with imprisonment of either description for a term which may extend to three months, or with fine which may extend to five hundred rupees, or with both.\n",
      "\n",
      "\n",
      "IPC 140 in Simple Words\n",
      "If someone who is not a military member wears a uniform or carries something resembling a military uniform to deceive others into believing they are a soldier, sailor, or airman, they can be punished with up to three months in jail, a fine of up to five hundred rupees, or both.\n"
     ]
    }
   ],
   "source": [
    "print(ipc_df['Description'].tolist()[0])"
   ]
  },
  {
   "cell_type": "code",
   "execution_count": 11,
   "metadata": {
    "colab": {
     "base_uri": "https://localhost:8080/"
    },
    "id": "dnIaD1gb5TIy",
    "outputId": "97e2130f-4dff-4f60-c56c-519be3dc2959"
   },
   "outputs": [
    {
     "name": "stdout",
     "output_type": "stream",
     "text": [
      "According to section 140 of Indian penal code, Whoever, not being a soldier, sailor or airman in the Military, Naval or Air service of the Government of India, wears any garb or carries any token resembling any garb or token used by such a soldier, sailor or airman with the intention that it may be believed that he is such a soldier, sailor or airman, shall be punished with imprisonment of either description for a term which may extend to three months, or with fine which may extend to five hundred rupees, or with both.\n",
      "95\n"
     ]
    }
   ],
   "source": [
    "ipc_df['content'] = ipc_df['Description'].str.split(\"\\n\\n\").str[0].str.split(\"\\n\").str[1]\n",
    "ipc_df['text_len'] = ipc_df['content'].str.split(\" \").apply(len)\n",
    "\n",
    "print(ipc_df['content'].tolist()[0])\n",
    "print(ipc_df['text_len'].tolist()[0])"
   ]
  },
  {
   "cell_type": "code",
   "execution_count": 19,
   "metadata": {
    "colab": {
     "base_uri": "https://localhost:8080/",
     "height": 309
    },
    "id": "lrITAFe489MN",
    "outputId": "6a9b84e5-9440-4db0-aa1f-c277114b7c7b"
   },
   "outputs": [
    {
     "name": "stdout",
     "output_type": "stream",
     "text": [
      "Token limit: 512\n"
     ]
    },
    {
     "data": {
      "image/png": "[encoded data removed]",
      "text/plain": [
       "<Figure size 500x300 with 1 Axes>"
      ]
     },
     "metadata": {},
     "output_type": "display_data"
    }
   ],
   "source": [
    "# The configured LLM supports a context window of up to 1048 tokens (input + output)\n",
    "# If any paragraphs in the dataset exceeds a limit of say 700 tokens then better to chunk the text\n",
    "\n",
    "tokenizer = AutoTokenizer.from_pretrained(\"sentence-transformers/all-MiniLM-L6-v2\")\n",
    "print(\"Token limit:\", tokenizer.model_max_length)\n",
    "\n",
    "lengths = [len(tokenizer.tokenize(s)) for s in ipc_df['content'].tolist()]\n",
    "\n",
    "plt.figure(figsize = (5, 3))\n",
    "pd.DataFrame(data = lengths, columns = ['token_len'])['token_len'].hist()\n",
    "plt.show()"
   ]
  },
  {
   "cell_type": "code",
   "execution_count": 13,
   "metadata": {
    "colab": {
     "base_uri": "https://localhost:8080/"
    },
    "id": "yKg9GF47Memg",
    "outputId": "bd31e88f-08cc-4cea-f92f-f731a5288072"
   },
   "outputs": [
    {
     "data": {
      "text/plain": [
       "Document(metadata={'source': 'row_0'}, page_content='According to section 140 of Indian penal code, Whoever, not being a soldier, sailor or airman in the Military, Naval or Air service of the Government of India, wears any garb or carries any token resembling any garb or token used by such a soldier, sailor or airman with the intention that it may be believed that he is such a soldier, sailor or airman, shall be punished with imprisonment of either description for a term which may extend to three months, or with fine which may extend to five hundred rupees, or with both.')"
      ]
     },
     "execution_count": 13,
     "metadata": {},
     "output_type": "execute_result"
    }
   ],
   "source": [
    "documents = [\n",
    "    Document(page_content=row[\"content\"], metadata={\"source\": f\"row_{i}\"})\n",
    "    for i, row in ipc_df.iterrows()\n",
    "]\n",
    "\n",
    "documents[0]"
   ]
  },
  {
   "cell_type": "code",
   "execution_count": 14,
   "metadata": {
    "id": "xv629kw8FUaX"
   },
   "outputs": [],
   "source": [
    "# text_splitter = RecursiveCharacterTextSplitter(chunk_size = 250, chunk_overlap = 25)\n",
    "# chunked_docs = text_splitter.split_documents(documents)"
   ]
  },
  {
   "cell_type": "code",
   "execution_count": 14,
   "metadata": {
    "id": "Nuv4AUQ8ABGj"
   },
   "outputs": [],
   "source": []
  },
  {
   "cell_type": "markdown",
   "metadata": {
    "id": "bYFlchRBACDJ"
   },
   "source": [
    "# Embeddings & Vector DB"
   ]
  },
  {
   "cell_type": "code",
   "execution_count": 15,
   "metadata": {
    "colab": {
     "base_uri": "https://localhost:8080/",
     "height": 297,
     "referenced_widgets": [
      "39de0d0bc8624965a75844f64745c348",
      "7af8527b1bba4737886dbc37dc255159",
      "4afceac223bb4299b574b19372388f40",
      "a91418850fd44c48bd3c7e0ae7562a09",
      "daa3ec17e2a24fe7acac3129d739ef17",
      "8e9be40ba2204fcfa5cd7d0846a46594",
      "f4730eb8b14b4ec384fdcc205b31d0fc",
      "8d88dc694e4340efa0dfb9b953689b6d",
      "f418dbd15af54878ac56886610f50e4a",
      "3035282da84444f7bbae15934d4783b6",
      "201f9d3b63754eaba4ba82102461008d",
      "610cebf25f29406caf3c7c1c4add8361",
      "5e9fd3d35fd943be847c676a18519900",
      "f16470ebd6ee433499684670f38c26e4",
      "954387ee5527426a8ac5162b7e947663",
      "312578265f384f048b05a9d3204d50ed",
      "21433f7fa243487c9f4c5710f8e44d42",
      "23acecfa329f433190d47501c8818f94",
      "49ce578ea41246a4b2509f95e0de0f2a",
      "865efce194be4c08bfc6add9a386289b",
      "1120cafb461e4414975cc8c457320aed",
      "7f0f530dfc79459b94466c7e02cd080d",
      "5fc12608f1f64bd98c652608e20866eb",
      "b6b16e039def49c19c4c3f7809c2b78d",
      "9edc3805e9db40598890ea4247b60a99",
      "1fe7aec49eac4be2985f5d23872d187c",
      "a94ef429d1f44dcf8f20f662a2053be7",
      "d0d0d77563f04a84b047813b4b6634bf",
      "1a96d168238f4fdaac52d0038378f015",
      "c1d2635748754752b2a35f7170112a8e",
      "cec8a1ee48a143a1bbb887614c530df0",
      "a5fd6cd18fa64e45b31a74fcc0eec56c",
      "d5c05455d78b41ceb536feb7cb309af6",
      "b91f583ddf4b44b89e615959701a776c",
      "f1770f20357242bd9aa023ce608688ca",
      "ecff6b5b339c4f5eb721ee88bf8fbfe9",
      "f8db6496fc7540c18b6c35cbb81c82fa",
      "96f00d3838f944e3958d537dbab11913",
      "d76370287ecd4b6894b3dc83323cdd57",
      "4284c10ec5764cdbbe54d3b31092d1d5",
      "f1685f968ba648a89b1aba6a623103a4",
      "616fa0d3b72d439aa5b4218ddf8168ed",
      "50705c41a4bf4259a6215fce2741cd26",
      "d2898cb453fa4f72bcd17950437bf2f0",
      "c94dc152f9d24c008883756a1009460e",
      "7cbe89ddca2d483ba61d06c710d60938",
      "250efda9a1cf4b3185055fc39e7dfbb4",
      "b802667e19484d2b8d0703af7e0ac254",
      "71e6890b4e0f4365aabf250b96478751",
      "4ddeb2216cb949218bf191b7b4c8a079",
      "f5dc1c8a03e84dff96c7f975106646ab",
      "a9a387fa53cd4541b57043a33835f8a1",
      "fd3529bcbc1044c889490f2351bf68b0",
      "541d7fc2ea6c4aecb2b92772c0e9e462",
      "825d8d493c534ded94540aaae0799c79",
      "24034668782f4bd683ec9ccea3afe867",
      "186a216183804e3ea13204fd5fbce381",
      "b1931ec341b843e7b48a0b52133cc792",
      "74c4b5d31a394453bc6df5cac34211bd",
      "0127585a816740e281d6da8c531c1500",
      "2c9fe30b914c405b98cbbb9c6753668f",
      "066aa665408544368411f414011d1430",
      "56e8500a834e4fe683c7ba11cfd2f6c2",
      "e0226cf009b248ca89375d6c942a61e0",
      "16038f3f35454dab8f2c1816bc42312f",
      "46e8cc5635e94c6b82574ca5fc7470e3",
      "c057276c5ab24f44b55fc902821d8535",
      "43012e9276324e5fa5e08e04bcf53727",
      "1cc63a46fefe4cae8cdb27c2aae355de",
      "ac1347898586437c917ec57f8b94695d",
      "59a773a00660469eae337112b59b3787",
      "44a7bc02aaa94abb9866589f9e43d6df",
      "5d505b3723fb48da88b538672244d034",
      "5fe861616b5f484f9d6b7d919b4eb550",
      "a67448ba175942a78e7ebab9ca085d5e",
      "5f0152b93e0545229c8a928583bcf107",
      "389fc91e09194909a2424ab256e65e24"
     ]
    },
    "id": "m0-dS6E79fkC",
    "outputId": "a8798863-c31c-439d-b7c7-23099660f3f5"
   },
   "outputs": [
    {
     "name": "stderr",
     "output_type": "stream",
     "text": [
      "/tmp/ipython-input-15-1394701029.py:2: LangChainDeprecationWarning: The class `HuggingFaceEmbeddings` was deprecated in LangChain 0.2.2 and will be removed in 1.0. An updated version of the class exists in the :class:`~langchain-huggingface package and should be used instead. To use it run `pip install -U :class:`~langchain-huggingface` and import as `from :class:`~langchain_huggingface import HuggingFaceEmbeddings``.\n",
      "  embeddings = HuggingFaceEmbeddings(model_name=\"sentence-transformers/all-MiniLM-L6-v2\")\n"
     ]
    },
    {
     "data": {
      "application/vnd.jupyter.widget-view+json": {
       "model_id": "39de0d0bc8624965a75844f64745c348",
       "version_major": 2,
       "version_minor": 0
      },
      "text/plain": [
       "modules.json:   0%|          | 0.00/349 [00:00<?, ?B/s]"
      ]
     },
     "metadata": {},
     "output_type": "display_data"
    },
    {
     "data": {
      "application/vnd.jupyter.widget-view+json": {
       "model_id": "610cebf25f29406caf3c7c1c4add8361",
       "version_major": 2,
       "version_minor": 0
      },
      "text/plain": [
       "config_sentence_transformers.json:   0%|          | 0.00/116 [00:00<?, ?B/s]"
      ]
     },
     "metadata": {},
     "output_type": "display_data"
    },
    {
     "data": {
      "application/vnd.jupyter.widget-view+json": {
       "model_id": "5fc12608f1f64bd98c652608e20866eb",
       "version_major": 2,
       "version_minor": 0
      },
      "text/plain": [
       "README.md: 0.00B [00:00, ?B/s]"
      ]
     },
     "metadata": {},
     "output_type": "display_data"
    },
    {
     "data": {
      "application/vnd.jupyter.widget-view+json": {
       "model_id": "b91f583ddf4b44b89e615959701a776c",
       "version_major": 2,
       "version_minor": 0
      },
      "text/plain": [
       "sentence_bert_config.json:   0%|          | 0.00/53.0 [00:00<?, ?B/s]"
      ]
     },
     "metadata": {},
     "output_type": "display_data"
    },
    {
     "data": {
      "application/vnd.jupyter.widget-view+json": {
       "model_id": "c94dc152f9d24c008883756a1009460e",
       "version_major": 2,
       "version_minor": 0
      },
      "text/plain": [
       "config.json:   0%|          | 0.00/612 [00:00<?, ?B/s]"
      ]
     },
     "metadata": {},
     "output_type": "display_data"
    },
    {
     "data": {
      "application/vnd.jupyter.widget-view+json": {
       "model_id": "24034668782f4bd683ec9ccea3afe867",
       "version_major": 2,
       "version_minor": 0
      },
      "text/plain": [
       "model.safetensors:   0%|          | 0.00/90.9M [00:00<?, ?B/s]"
      ]
     },
     "metadata": {},
     "output_type": "display_data"
    },
    {
     "data": {
      "application/vnd.jupyter.widget-view+json": {
       "model_id": "c057276c5ab24f44b55fc902821d8535",
       "version_major": 2,
       "version_minor": 0
      },
      "text/plain": [
       "config.json:   0%|          | 0.00/190 [00:00<?, ?B/s]"
      ]
     },
     "metadata": {},
     "output_type": "display_data"
    }
   ],
   "source": [
    "# create embeddings\n",
    "embeddings = HuggingFaceEmbeddings(model_name=\"sentence-transformers/all-MiniLM-L6-v2\")\n",
    "\n",
    "# create a vector db for similarity based retrieval\n",
    "vector_db = FAISS.from_documents(documents, embeddings)"
   ]
  },
  {
   "cell_type": "code",
   "execution_count": 16,
   "metadata": {
    "colab": {
     "base_uri": "https://localhost:8080/"
    },
    "id": "Un95bWQ79fgG",
    "outputId": "5e5ac03e-efe8-4ed3-e5c6-4d529d7f3ef3"
   },
   "outputs": [
    {
     "data": {
      "text/plain": [
       "[Document(id='20494408-9ed2-4443-88d8-681cf25d058c', metadata={'source': 'row_0'}, page_content='According to section 140 of Indian penal code, Whoever, not being a soldier, sailor or airman in the Military, Naval or Air service of the Government of India, wears any garb or carries any token resembling any garb or token used by such a soldier, sailor or airman with the intention that it may be believed that he is such a soldier, sailor or airman, shall be punished with imprisonment of either description for a term which may extend to three months, or with fine which may extend to five hundred rupees, or with both.')]"
      ]
     },
     "execution_count": 16,
     "metadata": {},
     "output_type": "execute_result"
    }
   ],
   "source": [
    "vector_db.similarity_search(question, k=1)"
   ]
  },
  {
   "cell_type": "code",
   "execution_count": 16,
   "metadata": {
    "id": "uzZ76lx7AHiS"
   },
   "outputs": [],
   "source": []
  },
  {
   "cell_type": "markdown",
   "metadata": {
    "id": "aOOh-hu-AH5l"
   },
   "source": [
    "# RAG"
   ]
  },
  {
   "cell_type": "code",
   "execution_count": 17,
   "metadata": {
    "id": "5nk8TPys_SNC"
   },
   "outputs": [],
   "source": [
    "rag_qa = RetrievalQA.from_chain_type(\n",
    "    llm=llm,\n",
    "    retriever=vector_db.as_retriever(),\n",
    "    return_source_documents=True\n",
    ")"
   ]
  },
  {
   "cell_type": "code",
   "execution_count": 18,
   "metadata": {
    "colab": {
     "base_uri": "https://localhost:8080/"
    },
    "id": "Al8ZfG9Y-1Kx",
    "outputId": "6271e852-d2cc-43d9-d1cb-fe0cd88b65f8"
   },
   "outputs": [
    {
     "name": "stdout",
     "output_type": "stream",
     "text": [
      "Question: Which section of the IPC deals with the offense of wearing the garb or carrying a token used by a soldier, sailor, or airman of the Indian armed forces, while not being one?\n",
      "\n",
      "Answer:  Section 140 of the Indian Penal Code deals with the offense of wearing the garb or carrying a token used by a soldier, sailor, or airman of the Indian armed forces, while not being one.\n",
      "\n",
      "Source Document: According to section 140 of Indian penal code, Whoever, not being a soldier, sailor or airman in the Military, Naval or Air service of the Government of India, wears any garb or carries any token resembling any garb or token used by such a soldier, sailor or airman with the intention that it may be believed that he is such a soldier, sailor or airman, shall be punished with imprisonment of either description for a term which may extend to three months, or with fine which may extend to five hundred rupees, or with both.\n"
     ]
    }
   ],
   "source": [
    "result = rag_qa.invoke(question)\n",
    "\n",
    "print(\"Question:\", question)\n",
    "print(\"\\nAnswer:\", result[\"result\"])\n",
    "print(\"\\nSource Document:\", result[\"source_documents\"][0].page_content)"
   ]
  },
  {
   "cell_type": "code",
   "execution_count": 18,
   "metadata": {
    "id": "RhwkEBJl9fa3"
   },
   "outputs": [],
   "source": []
  },
  {
   "cell_type": "code",
   "execution_count": null,
   "metadata": {
    "id": "68YzJDUw9fYC"
   },
   "outputs": [],
   "source": []
  },
  {
   "cell_type": "code",
   "execution_count": null,
   "metadata": {
    "id": "-fcxhac7WjEW"
   },
   "outputs": [],
   "source": []
  }
 ],
 "metadata": {
  "colab": {
   "provenance": []
  },
  "kernelspec": {
   "display_name": "Python 3 (ipykernel)",
   "language": "python",
   "name": "python3"
  },
  "language_info": {
   "codemirror_mode": {
    "name": "ipython",
    "version": 3
   },
   "file_extension": ".py",
   "mimetype": "text/x-python",
   "name": "python",
   "nbconvert_exporter": "python",
   "pygments_lexer": "ipython3",
   "version": "3.12.7"
  }
 },
 "nbformat": 4,
 "nbformat_minor": 1
}
