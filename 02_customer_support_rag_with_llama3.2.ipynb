{
 "cells": [
  {
   "cell_type": "markdown",
   "id": "3e8075ee-90ee-41be-9cde-bc2dc484fa22",
   "metadata": {},
   "source": [
    "![title](data/customer_support_flow.png)"
   ]
  },
  {
   "cell_type": "markdown",
   "id": "71aff21f-129c-42c6-9960-af96a3f1d6e9",
   "metadata": {},
   "source": [
    "# Notebook Config"
   ]
  },
  {
   "cell_type": "code",
   "execution_count": 1,
   "id": "9b5ad21b",
   "metadata": {},
   "outputs": [],
   "source": "!pip install --quiet -U langchain langchain_community langchain-ollama sentence-transformers faiss-cpu"
  },
  {
   "cell_type": "code",
   "execution_count": 10,
   "id": "45168a11",
   "metadata": {},
   "outputs": [],
   "source": [
    "from langchain_ollama import ChatOllama\n",
    "from langchain_core.output_parsers import JsonOutputParser\n",
    "from langchain.prompts import PromptTemplate, ChatPromptTemplate\n",
    "from langchain.embeddings import HuggingFaceEmbeddings\n",
    "from sentence_transformers import SentenceTransformer\n",
    "from transformers import pipeline\n",
    "import faiss\n",
    "import pandas as pd\n",
    "import numpy as np\n",
    "import matplotlib.pyplot as plt"
   ]
  },
  {
   "cell_type": "code",
   "execution_count": 39,
   "id": "2401c69b-0fe1-4516-b5bc-0681a77fd56e",
   "metadata": {},
   "outputs": [],
   "source": [
    "# embedding model for creating the vector store\n",
    "embed_model = SentenceTransformer('all-mpnet-base-v2')\n",
    "\n",
    "# chat llm for text generation\n",
    "llm = ChatOllama(model=\"llama3.2\", temperature=0)"
   ]
  },
  {
   "cell_type": "code",
   "execution_count": null,
   "id": "41c89253-f01d-4a1c-94e9-5f7f258f1930",
   "metadata": {},
   "outputs": [],
   "source": []
  },
  {
   "cell_type": "markdown",
   "id": "76dac700-f6c9-48f1-ad95-db2fc269cc6a",
   "metadata": {},
   "source": [
    "# Data"
   ]
  },
  {
   "cell_type": "code",
   "execution_count": 3,
   "id": "de4fb076",
   "metadata": {},
   "outputs": [
    {
     "name": "stdout",
     "output_type": "stream",
     "text": [
      "(26872, 5)\n"
     ]
    },
    {
     "data": {
      "text/html": [
       "<div>\n",
       "<style scoped>\n",
       "    .dataframe tbody tr th:only-of-type {\n",
       "        vertical-align: middle;\n",
       "    }\n",
       "\n",
       "    .dataframe tbody tr th {\n",
       "        vertical-align: top;\n",
       "    }\n",
       "\n",
       "    .dataframe thead th {\n",
       "        text-align: right;\n",
       "    }\n",
       "</style>\n",
       "<table border=\"1\" class=\"dataframe\">\n",
       "  <thead>\n",
       "    <tr style=\"text-align: right;\">\n",
       "      <th></th>\n",
       "      <th>flags</th>\n",
       "      <th>instruction</th>\n",
       "      <th>category</th>\n",
       "      <th>intent</th>\n",
       "      <th>response</th>\n",
       "    </tr>\n",
       "  </thead>\n",
       "  <tbody>\n",
       "    <tr>\n",
       "      <th>0</th>\n",
       "      <td>B</td>\n",
       "      <td>question about cancelling order {{Order Number}}</td>\n",
       "      <td>ORDER</td>\n",
       "      <td>cancel_order</td>\n",
       "      <td>I've understood you have a question regarding ...</td>\n",
       "    </tr>\n",
       "    <tr>\n",
       "      <th>1</th>\n",
       "      <td>BQZ</td>\n",
       "      <td>i have a question about cancelling oorder {{Or...</td>\n",
       "      <td>ORDER</td>\n",
       "      <td>cancel_order</td>\n",
       "      <td>I've been informed that you have a question ab...</td>\n",
       "    </tr>\n",
       "    <tr>\n",
       "      <th>2</th>\n",
       "      <td>BLQZ</td>\n",
       "      <td>i need help cancelling puchase {{Order Number}}</td>\n",
       "      <td>ORDER</td>\n",
       "      <td>cancel_order</td>\n",
       "      <td>I can sense that you're seeking assistance wit...</td>\n",
       "    </tr>\n",
       "    <tr>\n",
       "      <th>3</th>\n",
       "      <td>BL</td>\n",
       "      <td>I need to cancel purchase {{Order Number}}</td>\n",
       "      <td>ORDER</td>\n",
       "      <td>cancel_order</td>\n",
       "      <td>I understood that you need assistance with can...</td>\n",
       "    </tr>\n",
       "    <tr>\n",
       "      <th>4</th>\n",
       "      <td>BCELN</td>\n",
       "      <td>I cannot afford this order, cancel purchase {{...</td>\n",
       "      <td>ORDER</td>\n",
       "      <td>cancel_order</td>\n",
       "      <td>I'm sensitive to the fact that you're facing f...</td>\n",
       "    </tr>\n",
       "  </tbody>\n",
       "</table>\n",
       "</div>"
      ],
      "text/plain": [
       "   flags                                        instruction category  \\\n",
       "0      B   question about cancelling order {{Order Number}}    ORDER   \n",
       "1    BQZ  i have a question about cancelling oorder {{Or...    ORDER   \n",
       "2   BLQZ    i need help cancelling puchase {{Order Number}}    ORDER   \n",
       "3     BL         I need to cancel purchase {{Order Number}}    ORDER   \n",
       "4  BCELN  I cannot afford this order, cancel purchase {{...    ORDER   \n",
       "\n",
       "         intent                                           response  \n",
       "0  cancel_order  I've understood you have a question regarding ...  \n",
       "1  cancel_order  I've been informed that you have a question ab...  \n",
       "2  cancel_order  I can sense that you're seeking assistance wit...  \n",
       "3  cancel_order  I understood that you need assistance with can...  \n",
       "4  cancel_order  I'm sensitive to the fact that you're facing f...  "
      ]
     },
     "execution_count": 3,
     "metadata": {},
     "output_type": "execute_result"
    }
   ],
   "source": [
    "cust_support_qa_data = pd.read_csv(\"hf://datasets/bitext/Bitext-customer-support-llm-chatbot-training-dataset/Bitext_Sample_Customer_Support_Training_Dataset_27K_responses-v11.csv\")\n",
    "\n",
    "print(cust_support_qa_data.shape)\n",
    "cust_support_qa_data.head()"
   ]
  },
  {
   "cell_type": "code",
   "execution_count": 4,
   "id": "cd636ef0",
   "metadata": {},
   "outputs": [
    {
     "data": {
      "text/plain": [
       "intent\n",
       "edit_account                1000\n",
       "switch_account              1000\n",
       "check_invoice               1000\n",
       "complaint                   1000\n",
       "contact_customer_service    1000\n",
       "delivery_period              999\n",
       "registration_problems        999\n",
       "check_payment_methods        999\n",
       "contact_human_agent          999\n",
       "payment_issue                999\n",
       "newsletter_subscription      999\n",
       "get_invoice                  999\n",
       "place_order                  998\n",
       "cancel_order                 998\n",
       "track_refund                 998\n",
       "change_order                 997\n",
       "get_refund                   997\n",
       "create_account               997\n",
       "check_refund_policy          997\n",
       "review                       997\n",
       "set_up_shipping_address      997\n",
       "delivery_options             995\n",
       "delete_account               995\n",
       "recover_password             995\n",
       "track_order                  995\n",
       "change_shipping_address      973\n",
       "check_cancellation_fee       950\n",
       "Name: count, dtype: int64"
      ]
     },
     "execution_count": 4,
     "metadata": {},
     "output_type": "execute_result"
    }
   ],
   "source": [
    "cust_support_qa_data['intent'].value_counts()"
   ]
  },
  {
   "cell_type": "code",
   "execution_count": 5,
   "id": "3a55454a-252d-42a5-b399-96eb9147e7d0",
   "metadata": {},
   "outputs": [
    {
     "name": "stdout",
     "output_type": "stream",
     "text": [
      "(3989, 6)\n"
     ]
    }
   ],
   "source": [
    "# filter few intents to limit rows for faster execution\n",
    "\n",
    "cust_support_qa_data = cust_support_qa_data[cust_support_qa_data['intent'].isin(\n",
    "    ['track_order', 'cancel_order', 'get_refund', 'delivery_period']\n",
    ")].reset_index().rename(columns = {\"index\" : \"row_num\"})\n",
    "\n",
    "print(cust_support_qa_data.shape)"
   ]
  },
  {
   "cell_type": "code",
   "execution_count": 6,
   "id": "dd1a77b4-4c76-44e6-8a7c-46c7544203aa",
   "metadata": {},
   "outputs": [],
   "source": [
    "cust_support_qa_data['len_instruction'] = cust_support_qa_data['instruction'].str.split(\" \").apply(len)\n",
    "cust_support_qa_data['len_response'] = cust_support_qa_data['response'].str.split(\" \").apply(len)"
   ]
  },
  {
   "cell_type": "code",
   "execution_count": 7,
   "id": "84d41956-1d06-45f6-93a5-6b3b72903e37",
   "metadata": {},
   "outputs": [
    {
     "data": {
      "text/plain": [
       "<Axes: >"
      ]
     },
     "execution_count": 7,
     "metadata": {},
     "output_type": "execute_result"
    },
    {
     "data": {
      "image/png": "[encoded data removed]",
      "text/plain": [
       "<Figure size 500x300 with 1 Axes>"
      ]
     },
     "metadata": {},
     "output_type": "display_data"
    }
   ],
   "source": [
    "plt.figure(figsize = (5,3))\n",
    "cust_support_qa_data['len_instruction'].hist()"
   ]
  },
  {
   "cell_type": "code",
   "execution_count": 8,
   "id": "42c9c8d0-2a74-4d84-970d-3e6955880771",
   "metadata": {},
   "outputs": [
    {
     "data": {
      "text/plain": [
       "<Axes: >"
      ]
     },
     "execution_count": 8,
     "metadata": {},
     "output_type": "execute_result"
    },
    {
     "data": {
      "image/png": "[encoded data removed]",
      "text/plain": [
       "<Figure size 500x300 with 1 Axes>"
      ]
     },
     "metadata": {},
     "output_type": "display_data"
    }
   ],
   "source": [
    "plt.figure(figsize = (5,3))\n",
    "cust_support_qa_data['len_response'].hist()"
   ]
  },
  {
   "cell_type": "code",
   "execution_count": null,
   "id": "c628e24d-9558-40d3-aca9-ae26e198665f",
   "metadata": {},
   "outputs": [],
   "source": []
  },
  {
   "cell_type": "markdown",
   "id": "c3db77c2-5396-4a5b-a56e-ce0d69018fc6",
   "metadata": {},
   "source": [
    "# Embed and create a vector store for retrieval"
   ]
  },
  {
   "cell_type": "code",
   "execution_count": 11,
   "id": "063d8b11-10f3-43f6-ba7d-04f0c04091ad",
   "metadata": {},
   "outputs": [],
   "source": [
    "# create embedding\n",
    "embeddings = embed_model.encode(cust_support_qa_data['instruction'].tolist(), convert_to_numpy=True)\n",
    "\n",
    "# Create FAISS index\n",
    "dim = embeddings.shape[1]\n",
    "index = faiss.IndexFlatL2(dim)\n",
    "row_num_to_idx = dict(zip(cust_support_qa_data['row_num'], range(len(cust_support_qa_data))))\n",
    "index.add(embeddings)"
   ]
  },
  {
   "cell_type": "code",
   "execution_count": 12,
   "id": "1bc19b99-3383-4907-a7fb-d912277ecbab",
   "metadata": {},
   "outputs": [],
   "source": [
    "# function to query the filtered intent; tracked with row_num field (index all, search some)\n",
    "\n",
    "def vector_search(query, row_num_filter, top_k=1):\n",
    "    mask = cust_support_qa_data['row_num'].isin(row_num_filter)\n",
    "    subset_df = cust_support_qa_data[mask].reset_index(drop=True)\n",
    "    subset_embeddings = model.encode(subset_df['instruction'].tolist(), convert_to_numpy=True)\n",
    "    \n",
    "    temp_index = faiss.IndexFlatL2(dim)\n",
    "    temp_index.add(subset_embeddings)\n",
    "    query_embedding = model.encode([query], convert_to_numpy=True)\n",
    "\n",
    "    D, I = temp_index.search(query_embedding, top_k)\n",
    "    results = subset_df.iloc[I[0]]\n",
    "    \n",
    "    return results[['row_num', 'instruction', 'response']]"
   ]
  },
  {
   "cell_type": "code",
   "execution_count": 13,
   "id": "34bbf4c7-b4a1-4382-8c1a-5743c09a0775",
   "metadata": {},
   "outputs": [
    {
     "data": {
      "text/html": [
       "<div>\n",
       "<style scoped>\n",
       "    .dataframe tbody tr th:only-of-type {\n",
       "        vertical-align: middle;\n",
       "    }\n",
       "\n",
       "    .dataframe tbody tr th {\n",
       "        vertical-align: top;\n",
       "    }\n",
       "\n",
       "    .dataframe thead th {\n",
       "        text-align: right;\n",
       "    }\n",
       "</style>\n",
       "<table border=\"1\" class=\"dataframe\">\n",
       "  <thead>\n",
       "    <tr style=\"text-align: right;\">\n",
       "      <th></th>\n",
       "      <th>row_num</th>\n",
       "      <th>instruction</th>\n",
       "      <th>response</th>\n",
       "    </tr>\n",
       "  </thead>\n",
       "  <tbody>\n",
       "    <tr>\n",
       "      <th>7</th>\n",
       "      <td>8</td>\n",
       "      <td>I have got to cancel purchase {{Order Number}}</td>\n",
       "      <td>I'm sensitive to the fact that you're seeking ...</td>\n",
       "    </tr>\n",
       "    <tr>\n",
       "      <th>2</th>\n",
       "      <td>3</td>\n",
       "      <td>I need to cancel purchase {{Order Number}}</td>\n",
       "      <td>I understood that you need assistance with can...</td>\n",
       "    </tr>\n",
       "    <tr>\n",
       "      <th>4</th>\n",
       "      <td>5</td>\n",
       "      <td>can you help me cancel order {{Order Number}}?</td>\n",
       "      <td>Of course, I'm here to assist you in canceling...</td>\n",
       "    </tr>\n",
       "  </tbody>\n",
       "</table>\n",
       "</div>"
      ],
      "text/plain": [
       "   row_num                                     instruction  \\\n",
       "7        8  I have got to cancel purchase {{Order Number}}   \n",
       "2        3      I need to cancel purchase {{Order Number}}   \n",
       "4        5  can you help me cancel order {{Order Number}}?   \n",
       "\n",
       "                                            response  \n",
       "7  I'm sensitive to the fact that you're seeking ...  \n",
       "2  I understood that you need assistance with can...  \n",
       "4  Of course, I'm here to assist you in canceling...  "
      ]
     },
     "execution_count": 13,
     "metadata": {},
     "output_type": "execute_result"
    }
   ],
   "source": [
    "vector_search(\"I want to cancel my order\", row_num_filter=[1, 2, 3, 4, 5, 6, 7, 8, 9], top_k = 3)"
   ]
  },
  {
   "cell_type": "code",
   "execution_count": null,
   "id": "ce22e6b7-9264-4a64-92ad-0eb22206063a",
   "metadata": {},
   "outputs": [],
   "source": []
  },
  {
   "cell_type": "code",
   "execution_count": null,
   "id": "34e0479f-7a83-4e2f-b645-921805def1dc",
   "metadata": {},
   "outputs": [],
   "source": []
  },
  {
   "cell_type": "markdown",
   "id": "d32f64b4-c181-4971-8980-ffb04dbd86bd",
   "metadata": {},
   "source": [
    "# Get user query's intent using an LLM"
   ]
  },
  {
   "cell_type": "code",
   "execution_count": 14,
   "id": "46258b84-9b81-4cba-9cdf-8ec65b21971f",
   "metadata": {},
   "outputs": [
    {
     "data": {
      "text/plain": [
       "['cancel_order', 'delivery_period', 'get_refund', 'track_order']"
      ]
     },
     "execution_count": 14,
     "metadata": {},
     "output_type": "execute_result"
    }
   ],
   "source": [
    "intents = list(cust_support_qa_data['intent'].unique())\n",
    "\n",
    "intents"
   ]
  },
  {
   "cell_type": "code",
   "execution_count": 45,
   "id": "76aa952d-3e76-4966-a695-192dca417a5a",
   "metadata": {},
   "outputs": [
    {
     "data": {
      "text/plain": [
       "ChatPromptTemplate(input_variables=['intents', 'query'], input_types={}, partial_variables={}, messages=[HumanMessagePromptTemplate(prompt=PromptTemplate(input_variables=['intents', 'query'], input_types={}, partial_variables={}, template='\\nYou are an intelligent assistant that classifies user queries into one of the given intent categories.\\n\\nYour task is to analyze the user\\'s query and return the most appropriate intent from the list provided.\\nIf the query does not clearly match any of the given intents, return \"None\".\\n\\n### Intent Categories:\\n{intents}\\n\\n### User Query:\\n{query}\\n\\nStrictly output only a JSON file with the following keys:\\nquery_intent\\n'), additional_kwargs={})])"
      ]
     },
     "execution_count": 45,
     "metadata": {},
     "output_type": "execute_result"
    }
   ],
   "source": [
    "get_intent_string = \"\"\"\n",
    "You are an intelligent assistant that classifies user queries into one of the given intent categories.\n",
    "\n",
    "Your task is to analyze the user's query and return the most appropriate intent from the list provided.\n",
    "If the query does not clearly match any of the given intents, return \"None\".\n",
    "\n",
    "### Intent Categories:\n",
    "{intents}\n",
    "\n",
    "### User Query:\n",
    "{query}\n",
    "\n",
    "Strictly output only a JSON file with the following keys:\n",
    "query_intent\n",
    "\"\"\"\n",
    "\n",
    "get_intent_prompt_template = ChatPromptTemplate.from_template(get_intent_string)\n",
    "\n",
    "get_intent_prompt_template"
   ]
  },
  {
   "cell_type": "code",
   "execution_count": 46,
   "id": "12d3d9bf-b1af-4344-be7e-4ff5b0563302",
   "metadata": {},
   "outputs": [
    {
     "data": {
      "text/plain": [
       "ChatPromptTemplate(input_variables=['intents', 'query'], input_types={}, partial_variables={}, messages=[HumanMessagePromptTemplate(prompt=PromptTemplate(input_variables=['intents', 'query'], input_types={}, partial_variables={}, template='\\nYou are an intelligent assistant that classifies user queries into one of the given intent categories.\\n\\nYour task is to analyze the user\\'s query and return the most appropriate intent from the list provided.\\nIf the query does not clearly match any of the given intents, return \"None\".\\n\\n### Intent Categories:\\n{intents}\\n\\n### User Query:\\n{query}\\n\\nStrictly output only a JSON file with the following keys:\\nquery_intent\\n'), additional_kwargs={})])\n",
       "| ChatOllama(model='llama3.2', temperature=0.0)"
      ]
     },
     "execution_count": 46,
     "metadata": {},
     "output_type": "execute_result"
    }
   ],
   "source": [
    "intent_chain = get_intent_prompt_template | llm\n",
    "\n",
    "intent_chain"
   ]
  },
  {
   "cell_type": "code",
   "execution_count": 47,
   "id": "8705c28c-6ec5-4882-9d42-c51ff72b2152",
   "metadata": {},
   "outputs": [
    {
     "data": {
      "text/plain": [
       "AIMessage(content='{\"query_intent\": \"cancel_order\"}', additional_kwargs={}, response_metadata={'model': 'llama3.2', 'created_at': '2025-07-25T13:38:35.6359826Z', 'done': True, 'done_reason': 'stop', 'total_duration': 2253968600, 'load_duration': 67844500, 'prompt_eval_count': 127, 'prompt_eval_duration': 1344449400, 'eval_count': 9, 'eval_duration': 841138100, 'model_name': 'llama3.2'}, id='run--b5d91711-e90c-43a6-8dfa-f9d625b4acec-0', usage_metadata={'input_tokens': 127, 'output_tokens': 9, 'total_tokens': 136})"
      ]
     },
     "execution_count": 47,
     "metadata": {},
     "output_type": "execute_result"
    }
   ],
   "source": [
    "#check\n",
    "query_intent = intent_chain.invoke({\n",
    "    \"intents\":intents,\n",
    "    \"query\":\"I want to cancel my order\"\n",
    "})\n",
    "\n",
    "query_intent"
   ]
  },
  {
   "cell_type": "code",
   "execution_count": 48,
   "id": "e0cedfc9-90ae-46f0-809e-f245a35e605e",
   "metadata": {},
   "outputs": [
    {
     "data": {
      "text/plain": [
       "AIMessage(content='{\"query_intent\": \"None\"}', additional_kwargs={}, response_metadata={'model': 'llama3.2', 'created_at': '2025-07-25T13:38:38.9341992Z', 'done': True, 'done_reason': 'stop', 'total_duration': 2237475100, 'load_duration': 65069900, 'prompt_eval_count': 131, 'prompt_eval_duration': 1363021400, 'eval_count': 8, 'eval_duration': 808552700, 'model_name': 'llama3.2'}, id='run--6b04f8d2-0db1-4736-af23-c1d20badd9b9-0', usage_metadata={'input_tokens': 131, 'output_tokens': 8, 'total_tokens': 139})"
      ]
     },
     "execution_count": 48,
     "metadata": {},
     "output_type": "execute_result"
    }
   ],
   "source": [
    "#check\n",
    "query_intent = intent_chain.invoke({\n",
    "    \"intents\":intents,\n",
    "    \"query\":\"I dont like this product what the hell is it?\"\n",
    "})\n",
    "\n",
    "query_intent"
   ]
  },
  {
   "cell_type": "code",
   "execution_count": null,
   "id": "f3a8a897-6d0f-40bd-917b-742371dc64cd",
   "metadata": {},
   "outputs": [],
   "source": [
    "json_parser = JsonOutputParser()"
   ]
  },
  {
   "cell_type": "code",
   "execution_count": 49,
   "id": "ed2fe2a4-7ae3-4219-ba62-bc14b3a5589e",
   "metadata": {},
   "outputs": [
    {
     "data": {
      "text/plain": [
       "'None'"
      ]
     },
     "execution_count": 49,
     "metadata": {},
     "output_type": "execute_result"
    }
   ],
   "source": [
    "json_parser.parse(query_intent.content)['query_intent']"
   ]
  },
  {
   "cell_type": "code",
   "execution_count": null,
   "id": "d6875c7e-d7ec-4cb5-ba98-3a097a9a8ffb",
   "metadata": {},
   "outputs": [],
   "source": []
  },
  {
   "cell_type": "markdown",
   "id": "901ac446-2147-4b9a-985c-1ee733f174c6",
   "metadata": {},
   "source": [
    "# Retrieve previously answered queries and their resolutions"
   ]
  },
  {
   "cell_type": "code",
   "execution_count": 200,
   "id": "0c06754f-9ad7-487f-8e6c-a92f28257e65",
   "metadata": {},
   "outputs": [
    {
     "name": "stdout",
     "output_type": "stream",
     "text": [
      "998\n"
     ]
    }
   ],
   "source": [
    "intent_row_nums = cust_support_qa_data[cust_support_qa_data['intent'].isin(['cancel_order'])]['row_num'].tolist()\n",
    "\n",
    "print(len(intent_row_nums))"
   ]
  },
  {
   "cell_type": "code",
   "execution_count": 204,
   "id": "80acd3e4-b7db-4cf8-a47b-6e4d38afe903",
   "metadata": {},
   "outputs": [
    {
     "data": {
      "text/html": [
       "<div>\n",
       "<style scoped>\n",
       "    .dataframe tbody tr th:only-of-type {\n",
       "        vertical-align: middle;\n",
       "    }\n",
       "\n",
       "    .dataframe tbody tr th {\n",
       "        vertical-align: top;\n",
       "    }\n",
       "\n",
       "    .dataframe thead th {\n",
       "        text-align: right;\n",
       "    }\n",
       "</style>\n",
       "<table border=\"1\" class=\"dataframe\">\n",
       "  <thead>\n",
       "    <tr style=\"text-align: right;\">\n",
       "      <th></th>\n",
       "      <th>row_num</th>\n",
       "      <th>instruction</th>\n",
       "      <th>response</th>\n",
       "    </tr>\n",
       "  </thead>\n",
       "  <tbody>\n",
       "    <tr>\n",
       "      <th>991</th>\n",
       "      <td>991</td>\n",
       "      <td>cancel order</td>\n",
       "      <td>I've realized that you're seeking assistance i...</td>\n",
       "    </tr>\n",
       "    <tr>\n",
       "      <th>311</th>\n",
       "      <td>311</td>\n",
       "      <td>canceling order</td>\n",
       "      <td>I pick up what you're putting down, your need ...</td>\n",
       "    </tr>\n",
       "    <tr>\n",
       "      <th>479</th>\n",
       "      <td>479</td>\n",
       "      <td>I bought some product, I want to cancel order ...</td>\n",
       "      <td>I've come to understand that you've made a pur...</td>\n",
       "    </tr>\n",
       "  </tbody>\n",
       "</table>\n",
       "</div>"
      ],
      "text/plain": [
       "     row_num                                        instruction  \\\n",
       "991      991                                       cancel order   \n",
       "311      311                                    canceling order   \n",
       "479      479  I bought some product, I want to cancel order ...   \n",
       "\n",
       "                                              response  \n",
       "991  I've realized that you're seeking assistance i...  \n",
       "311  I pick up what you're putting down, your need ...  \n",
       "479  I've come to understand that you've made a pur...  "
      ]
     },
     "execution_count": 204,
     "metadata": {},
     "output_type": "execute_result"
    }
   ],
   "source": [
    "similar_prev_queries = vector_search(\"I want to cancel my order\", row_num_filter=intent_row_nums, top_k = 3)\n",
    "\n",
    "similar_prev_queries"
   ]
  },
  {
   "cell_type": "code",
   "execution_count": null,
   "id": "e51a117e-3851-4849-aac3-a47286f0e6a3",
   "metadata": {},
   "outputs": [],
   "source": []
  },
  {
   "cell_type": "markdown",
   "id": "86d8e5c1-1551-481d-98a7-06700d6d517d",
   "metadata": {},
   "source": [
    "# Generate response based on previous query resolutions"
   ]
  },
  {
   "cell_type": "code",
   "execution_count": 52,
   "id": "362ceb05-3f64-4b86-b9ff-ceea592c825f",
   "metadata": {},
   "outputs": [
    {
     "data": {
      "text/plain": [
       "ChatPromptTemplate(input_variables=['prev_resolutions', 'query'], input_types={}, partial_variables={}, messages=[HumanMessagePromptTemplate(prompt=PromptTemplate(input_variables=['prev_resolutions', 'query'], input_types={}, partial_variables={}, template='\\nYou are an intelligent and courteous assistant that helps respond to user queries based on previously resolved similar cases.\\n\\nYour task is to:\\n1. Review the previous resolutions listed below.\\n2. Determine whether any of them clearly and directly address the user\\'s current query.\\n3. If a relevant resolution exists, use it to craft a polite, helpful response to the user.\\n4. If none of the previous resolutions are sufficient or relevant, respond with: None\\n\\nBegin your response with a polite greeting (e.g., \"Hello,\" or \"Hi there,\") and provide a helpful, natural-sounding reply.\\n\\n### Previous Resolutions:\\n{prev_resolutions}\\n\\n### User Query:\\n{query}\\n\\nRespond directly to the user query. If no relevant resolution is found, return: None\\n'), additional_kwargs={})])"
      ]
     },
     "execution_count": 52,
     "metadata": {},
     "output_type": "execute_result"
    }
   ],
   "source": [
    "response_string = \"\"\"\n",
    "You are an intelligent and courteous assistant that helps respond to user queries based on previously resolved similar cases.\n",
    "\n",
    "Your task is to:\n",
    "1. Review the previous resolutions listed below.\n",
    "2. Determine whether any of them clearly and directly address the user's current query.\n",
    "3. If a relevant resolution exists, use it to craft a polite, helpful response to the user.\n",
    "4. If none of the previous resolutions are sufficient or relevant, respond with: None\n",
    "\n",
    "Begin your response with a polite greeting (e.g., \"Hello,\" or \"Hi there,\") and provide a helpful, natural-sounding reply.\n",
    "\n",
    "### Previous Resolutions:\n",
    "{prev_resolutions}\n",
    "\n",
    "### User Query:\n",
    "{query}\n",
    "\n",
    "Respond directly to the user query. If no relevant resolution is found, return: None\n",
    "\"\"\"\n",
    "\n",
    "response_prompt_template = ChatPromptTemplate.from_template(response_string)\n",
    "\n",
    "response_prompt_template"
   ]
  },
  {
   "cell_type": "code",
   "execution_count": 53,
   "id": "13ae3d5d-181d-4b65-b074-a814ff0e2f62",
   "metadata": {},
   "outputs": [
    {
     "data": {
      "text/plain": [
       "ChatPromptTemplate(input_variables=['prev_resolutions', 'query'], input_types={}, partial_variables={}, messages=[HumanMessagePromptTemplate(prompt=PromptTemplate(input_variables=['prev_resolutions', 'query'], input_types={}, partial_variables={}, template='\\nYou are an intelligent and courteous assistant that helps respond to user queries based on previously resolved similar cases.\\n\\nYour task is to:\\n1. Review the previous resolutions listed below.\\n2. Determine whether any of them clearly and directly address the user\\'s current query.\\n3. If a relevant resolution exists, use it to craft a polite, helpful response to the user.\\n4. If none of the previous resolutions are sufficient or relevant, respond with: None\\n\\nBegin your response with a polite greeting (e.g., \"Hello,\" or \"Hi there,\") and provide a helpful, natural-sounding reply.\\n\\n### Previous Resolutions:\\n{prev_resolutions}\\n\\n### User Query:\\n{query}\\n\\nRespond directly to the user query. If no relevant resolution is found, return: None\\n'), additional_kwargs={})])\n",
       "| ChatOllama(model='llama3.2', temperature=0.0)"
      ]
     },
     "execution_count": 53,
     "metadata": {},
     "output_type": "execute_result"
    }
   ],
   "source": [
    "response_chain = response_prompt_template | llm\n",
    "\n",
    "response_chain"
   ]
  },
  {
   "cell_type": "code",
   "execution_count": 54,
   "id": "75e54ee1-3467-40ba-8d29-25aa3fc1b9ba",
   "metadata": {},
   "outputs": [
    {
     "name": "stdout",
     "output_type": "stream",
     "text": [
      "Hello there,\n",
      "\n",
      "I'd be happy to help you with canceling your order! Could you please provide me with the order number associated with the purchase you'd like to cancel? With that information, I'll be able to guide you through the process and ensure a seamless cancellation experience.\n",
      "\n",
      "If you're unable to find the order number or need any further assistance, our dedicated support team is available during {{Customer Support Hours}} at {{Customer Support Phone Number}} or through the Live Chat feature on our website at {{Website URL}}. We value your satisfaction as our customer and are here to help.\n",
      "\n",
      "Please let me know if there's anything else I can do to assist you.\n",
      "\n",
      "Best regards,\n",
      "[Your Assistant]\n"
     ]
    }
   ],
   "source": [
    "# check\n",
    "llm_response = response_chain.invoke({\n",
    "    \"prev_resolutions\":similar_prev_queries['response'].unique(),\n",
    "    \"query\":\"I want to cancel my order\"\n",
    "})\n",
    "\n",
    "print(llm_response.content)"
   ]
  },
  {
   "cell_type": "code",
   "execution_count": null,
   "id": "964366d2-594b-44c2-bd85-d40fa524de4a",
   "metadata": {},
   "outputs": [],
   "source": []
  },
  {
   "cell_type": "markdown",
   "id": "bd81fa16-8f5c-4f63-8031-dd0adbf39c90",
   "metadata": {},
   "source": [
    "# Putting it all together"
   ]
  },
  {
   "cell_type": "code",
   "execution_count": 68,
   "id": "daf04e28-f94c-4b4f-b9d4-78526ec7e04f",
   "metadata": {},
   "outputs": [],
   "source": [
    "def customer_support_rag(user_query):\n",
    "    query_intent = intent_chain.invoke({\n",
    "        \"intents\":intents,\n",
    "        \"query\":user_query\n",
    "    })\n",
    "    \n",
    "    intent = json_parser.parse(query_intent.content)['query_intent']\n",
    "    \n",
    "    if intent == 'None':\n",
    "        print(\"Please wait. Connecting you to our customer support executive!\")\n",
    "        return\n",
    "        \n",
    "    if intent not in intents:\n",
    "        print(\"LLM returned invalid user intent!\")\n",
    "        return\n",
    "    \n",
    "    intent_row_nums = cust_support_qa_data[cust_support_qa_data['intent'] == intent]['row_num'].tolist()\n",
    "    similar_prev_queries = vector_search(user_query, row_num_filter=intent_row_nums, top_k = 3)\n",
    "    \n",
    "    llm_response = response_chain.invoke({\n",
    "        \"prev_resolutions\":similar_prev_queries['response'].unique(),\n",
    "        \"query\":user_query\n",
    "    })\n",
    "    \n",
    "    if llm_response.content == \"None\":\n",
    "        \"Please wait. Connecting you to our customer support executive!\"\n",
    "    \n",
    "    print(llm_response.content)\n",
    "    return"
   ]
  },
  {
   "cell_type": "code",
   "execution_count": 69,
   "id": "44024017-56c0-4c19-9e8d-3e91fb40affc",
   "metadata": {},
   "outputs": [
    {
     "name": "stdout",
     "output_type": "stream",
     "text": [
      "Hello there,\n",
      "\n",
      "I'd be happy to help you with canceling your order! Could you please provide me with the order number associated with the purchase you'd like to cancel? With that information, I'll be able to guide you through the process and ensure a seamless cancellation experience.\n",
      "\n",
      "If you're unable to find the order number or need any further assistance, our dedicated support team is available during {{Customer Support Hours}} at {{Customer Support Phone Number}} or through the Live Chat feature on our website at {{Website URL}}. We value your satisfaction as our customer and are here to help.\n",
      "\n",
      "Please let me know if there's anything else I can do to assist you.\n",
      "\n",
      "Best regards,\n",
      "[Your Assistant]\n"
     ]
    }
   ],
   "source": [
    "customer_support_rag(\"I want to cancel my order\")"
   ]
  },
  {
   "cell_type": "code",
   "execution_count": null,
   "id": "0a2719ff-6f2c-4adf-9af9-18315939d66f",
   "metadata": {},
   "outputs": [],
   "source": []
  },
  {
   "cell_type": "code",
   "execution_count": null,
   "id": "9a2ef43b-9181-4f32-9c55-2a3aa6c1a573",
   "metadata": {},
   "outputs": [],
   "source": []
  },
  {
   "cell_type": "code",
   "execution_count": null,
   "id": "304cd465-8588-418f-a154-715040fac9a2",
   "metadata": {},
   "outputs": [],
   "source": []
  },
  {
   "cell_type": "code",
   "execution_count": null,
   "id": "41fe68a7-6449-48ef-91a5-a47aaca364db",
   "metadata": {},
   "outputs": [],
   "source": []
  },
  {
   "cell_type": "code",
   "execution_count": null,
   "id": "e9be7464-2406-40f8-9b54-fa1097dd1875",
   "metadata": {},
   "outputs": [],
   "source": []
  }
 ],
 "metadata": {
  "kernelspec": {
   "display_name": "Python 3 (ipykernel)",
   "language": "python",
   "name": "python3"
  },
  "language_info": {
   "codemirror_mode": {
    "name": "ipython",
    "version": 3
   },
   "file_extension": ".py",
   "mimetype": "text/x-python",
   "name": "python",
   "nbconvert_exporter": "python",
   "pygments_lexer": "ipython3",
   "version": "3.12.7"
  }
 },
 "nbformat": 4,
 "nbformat_minor": 5
}
