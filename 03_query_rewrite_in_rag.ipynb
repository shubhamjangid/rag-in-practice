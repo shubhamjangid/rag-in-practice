{
 "cells": [
  {
   "metadata": {
    "ExecuteTime": {
     "end_time": "2025-08-09T11:09:13.113909Z",
     "start_time": "2025-08-09T11:09:07.376711Z"
    }
   },
   "cell_type": "code",
   "source": [
    "from langchain_huggingface import HuggingFaceEmbeddings\n",
    "from langchain.prompts import PromptTemplate\n",
    "from langchain_core.runnables import RunnablePassthrough, RunnableLambda\n",
    "from langchain_ollama import ChatOllama\n",
    "\n",
    "# ../src/utils.py\n",
    "from src.utils import (\n",
    "    pdf_to_vector_store,\n",
    "    assign_score_with_llm_as_a_judge,\n",
    "    filter_retrieved_results_by_score\n",
    ")"
   ],
   "id": "aabc39a79bb6d1e3",
   "outputs": [],
   "execution_count": 1
  },
  {
   "metadata": {
    "ExecuteTime": {
     "end_time": "2025-08-09T11:09:14.370720Z",
     "start_time": "2025-08-09T11:09:13.137703Z"
    }
   },
   "cell_type": "code",
   "source": "llm = ChatOllama(model=\"llama3.2\", temperature=0.1)",
   "id": "299f69cfadd5f939",
   "outputs": [],
   "execution_count": 2
  },
  {
   "metadata": {},
   "cell_type": "code",
   "outputs": [],
   "execution_count": null,
   "source": "",
   "id": "5538cdd244c61d6e"
  },
  {
   "metadata": {},
   "cell_type": "markdown",
   "source": "## Create Vector Store for Retrieval",
   "id": "74372863a3490221"
  },
  {
   "metadata": {
    "jupyter": {
     "is_executing": true
    },
    "ExecuteTime": {
     "start_time": "2025-08-09T11:09:14.547679Z"
    }
   },
   "cell_type": "code",
   "source": [
    "faiss_vector_store = pdf_to_vector_store(\n",
    "        pdf_path = r\"data\\indian_constitution_text.pdf\",\n",
    "        chunk_size = 2000,\n",
    "        chunk_overlap = 400,\n",
    "        embedding_model = HuggingFaceEmbeddings(model_name=\"sentence-transformers/all-MiniLM-L6-v2\")\n",
    ")\n",
    "\n",
    "query_retriever = faiss_vector_store.as_retriever(search_kwargs={\"k\": 3})"
   ],
   "id": "c55c1d9ab1db6223",
   "outputs": [],
   "execution_count": null
  },
  {
   "metadata": {
    "ExecuteTime": {
     "end_time": "2025-08-09T08:07:04.977411Z",
     "start_time": "2025-08-09T08:07:04.895450Z"
    }
   },
   "cell_type": "code",
   "source": [
    "query = \"What is the preamble of the Indian Constitution?\"\n",
    "\n",
    "results = query_retriever.invoke(query)\n",
    "\n",
    "for result in results:\n",
    "    print(result.page_content)\n",
    "    print(\"-\"*100)"
   ],
   "id": "123d814b664538ee",
   "outputs": [
    {
     "name": "stdout",
     "output_type": "stream",
     "text": [
      "THE CONSTITUTION OF INDIA PREAMB LEWE, THE PEOPLE OF INDIA, having solemnly resolved to constitute India into a 1[SOVEREIGN SOCIALIST SECULAR DEMOCRATIC REPUBLIC] and to secure to all its citizens:JUSTICE, social, economic and political; LIBERTY of thought, expression, belief, faith and worship;EQUALITY of status and of opportunity;and to promote among them allFRATERNITY assuring the dignity of the individual and the 2[unity and integrity of the Nation];IN OUR CONSTITUENT ASSEMBLY this twenty-sixth day of November, 1949, do HEREBY ADOPT, ENACT AND GIVE TO OURSELVES THIS CONSTITUTION.______________________________________________1. Subs. by the Constitution (Forty-second Amendment) Act, 1976, s.2, for \"SOVEREIGN DEMOCRATIC REPUBLIC\" (w.e.f. 3-1-1977).2. Subs. by s. 2, ibid., for \"Unity of the Nation\" (w.e.f. 3-1-1977).\n",
      "----------------------------------------------------------------------------------------------------\n",
      "PREFACEThis is the  sixth pocket size edition of the Constitution of India in the diglot form. In this edition, the text of the Constitution of India has been brought up-to-date by incorporating therein all the amendments up to the Constitution (One Hundred and Sixth Amendment) Act, 2023. The foot notes below the text indicate the Constitution Amendment Acts by which such amendments have been made. The Constitution (One Hundredth Amendment) Act, 2015 containing details of acquired and transferred territories between the Governments of India and Bangladesh has been provided in Appendix I.The Constitution (Application to Jammu and Kashmir) Order, 2019 and the declaration under article 370(3) of the Constitution have been provided respectively in Appendix II and Appendix III for reference.New Delhi;Dr. Rajiv Mani,1stMay, 2024Secretary to the Government of India.\n",
      "----------------------------------------------------------------------------------------------------\n",
      "PART XXIISHORT TITLE, COMMENCEMENT, 1[AUTHORITATIVE TEXT IN HINDI] AND REPEALS393. Short title.—This Constitution may be called the Constitution of India. 394.  Commencement.—This article and articles 5, 6, 7, 8, 9, 60,  324, 366, 367, 379, 380, 388, 391, 392 and 393 shall come into force at once, and the remaining provisions of this Constitution shall come into force on the twenty-sixth day of January, 1950, which day is referred to in this Constitution as the commencement of this Constitution. 2[394A. Authoritative text in the Hindi language.—(1) The President shall cause to be published under his authority,— (a) the translation of this Constitution in the Hindi language, signed by the members of the Constituent Assembly, with such modifications as may be necessary to bring it in conformity with the language, style and terminology adopted in the authoritative texts of Central Acts in the Hindi language, and incorporating therein all the amendments of this Constitution made before such publication; and(b) the translation in the Hindi language of every amendment of this Constitution made in the English language. (2) The translation of this Constitution and of every amendment thereof published under clause (1) shall be construed to have the same meaning as  the original thereof and if any difficulty arises in so construing any part of such translation, the President shall cause the same to be revised suitably.(3) The translation of this Constitution and of every amendment thereof published under this article shall  be deemed to be, for all purposes, the authoritative text thereof in the Hindi language.]395. Repeals.— The Indian Independence Act, 1947, and the Government of India Act, 1935, together with all enactments amending or supplementing the latter Act, but not including the Abolition of Privy Council Jurisdiction Act, 1949, are hereby repealed.______________________________________________1. Ins. by the Constitution (Fifty-eighth Amendment) Act, 1987, s. 2\n",
      "----------------------------------------------------------------------------------------------------\n"
     ]
    }
   ],
   "execution_count": 10
  },
  {
   "metadata": {
    "ExecuteTime": {
     "end_time": "2025-08-09T08:09:29.012540Z",
     "start_time": "2025-08-09T08:07:14.081751Z"
    }
   },
   "cell_type": "code",
   "source": [
    "for result in results:\n",
    "    score = assign_score_with_llm_as_a_judge(\n",
    "        query = query,\n",
    "        result = result.page_content,\n",
    "        llm = llm\n",
    "    )\n",
    "\n",
    "    print(f\"Score for the document: {score['score']}\")\n",
    "    print(result.page_content)\n",
    "    print(\"-\"*100)"
   ],
   "id": "8c9b722d514ec4e",
   "outputs": [
    {
     "name": "stdout",
     "output_type": "stream",
     "text": [
      "Score for the document: 5\n",
      "THE CONSTITUTION OF INDIA PREAMB LEWE, THE PEOPLE OF INDIA, having solemnly resolved to constitute India into a 1[SOVEREIGN SOCIALIST SECULAR DEMOCRATIC REPUBLIC] and to secure to all its citizens:JUSTICE, social, economic and political; LIBERTY of thought, expression, belief, faith and worship;EQUALITY of status and of opportunity;and to promote among them allFRATERNITY assuring the dignity of the individual and the 2[unity and integrity of the Nation];IN OUR CONSTITUENT ASSEMBLY this twenty-sixth day of November, 1949, do HEREBY ADOPT, ENACT AND GIVE TO OURSELVES THIS CONSTITUTION.______________________________________________1. Subs. by the Constitution (Forty-second Amendment) Act, 1976, s.2, for \"SOVEREIGN DEMOCRATIC REPUBLIC\" (w.e.f. 3-1-1977).2. Subs. by s. 2, ibid., for \"Unity of the Nation\" (w.e.f. 3-1-1977).\n",
      "----------------------------------------------------------------------------------------------------\n",
      "Score for the document: 1\n",
      "PREFACEThis is the  sixth pocket size edition of the Constitution of India in the diglot form. In this edition, the text of the Constitution of India has been brought up-to-date by incorporating therein all the amendments up to the Constitution (One Hundred and Sixth Amendment) Act, 2023. The foot notes below the text indicate the Constitution Amendment Acts by which such amendments have been made. The Constitution (One Hundredth Amendment) Act, 2015 containing details of acquired and transferred territories between the Governments of India and Bangladesh has been provided in Appendix I.The Constitution (Application to Jammu and Kashmir) Order, 2019 and the declaration under article 370(3) of the Constitution have been provided respectively in Appendix II and Appendix III for reference.New Delhi;Dr. Rajiv Mani,1stMay, 2024Secretary to the Government of India.\n",
      "----------------------------------------------------------------------------------------------------\n",
      "Score for the document: 1\n",
      "PART XXIISHORT TITLE, COMMENCEMENT, 1[AUTHORITATIVE TEXT IN HINDI] AND REPEALS393. Short title.—This Constitution may be called the Constitution of India. 394.  Commencement.—This article and articles 5, 6, 7, 8, 9, 60,  324, 366, 367, 379, 380, 388, 391, 392 and 393 shall come into force at once, and the remaining provisions of this Constitution shall come into force on the twenty-sixth day of January, 1950, which day is referred to in this Constitution as the commencement of this Constitution. 2[394A. Authoritative text in the Hindi language.—(1) The President shall cause to be published under his authority,— (a) the translation of this Constitution in the Hindi language, signed by the members of the Constituent Assembly, with such modifications as may be necessary to bring it in conformity with the language, style and terminology adopted in the authoritative texts of Central Acts in the Hindi language, and incorporating therein all the amendments of this Constitution made before such publication; and(b) the translation in the Hindi language of every amendment of this Constitution made in the English language. (2) The translation of this Constitution and of every amendment thereof published under clause (1) shall be construed to have the same meaning as  the original thereof and if any difficulty arises in so construing any part of such translation, the President shall cause the same to be revised suitably.(3) The translation of this Constitution and of every amendment thereof published under this article shall  be deemed to be, for all purposes, the authoritative text thereof in the Hindi language.]395. Repeals.— The Indian Independence Act, 1947, and the Government of India Act, 1935, together with all enactments amending or supplementing the latter Act, but not including the Abolition of Privy Council Jurisdiction Act, 1949, are hereby repealed.______________________________________________1. Ins. by the Constitution (Fifty-eighth Amendment) Act, 1987, s. 2\n",
      "----------------------------------------------------------------------------------------------------\n"
     ]
    }
   ],
   "execution_count": 11
  },
  {
   "metadata": {},
   "cell_type": "code",
   "outputs": [],
   "execution_count": null,
   "source": "",
   "id": "f0f50fe6a8832318"
  },
  {
   "metadata": {},
   "cell_type": "code",
   "outputs": [],
   "execution_count": null,
   "source": "",
   "id": "c1564c7187529530"
  },
  {
   "metadata": {},
   "cell_type": "markdown",
   "source": "## Response Generation",
   "id": "a7d49b86ced52467"
  },
  {
   "metadata": {
    "ExecuteTime": {
     "end_time": "2025-08-09T08:33:51.563758Z",
     "start_time": "2025-08-09T08:33:51.557721Z"
    }
   },
   "cell_type": "code",
   "source": [
    "rag_prompt = PromptTemplate.from_template(\n",
    "    \"\"\"\n",
    "    You are an intelligent assistant that generates a response based on the provided context.\n",
    "\n",
    "    Context: {context}\n",
    "    Query: {query}\n",
    "\n",
    "    - Generate a short, concise and informative response based on the context and query.\n",
    "    - Ensure that your response is relevant to the query and supported by the context.\n",
    "    - If no relevant information is found in the context, respond with \"I don't know\".\n",
    "    - If the context is empty, respond with \"No context provided\".\n",
    "    \"\"\"\n",
    ")"
   ],
   "id": "50e4c1da93008b0",
   "outputs": [],
   "execution_count": 14
  },
  {
   "metadata": {
    "ExecuteTime": {
     "end_time": "2025-08-09T10:01:17.181381Z",
     "start_time": "2025-08-09T10:01:17.166794Z"
    }
   },
   "cell_type": "code",
   "source": [
    "rewrite_query = RunnableLambda(\n",
    "    lambda x: {\n",
    "        **x,\n",
    "        \"query\": llm.invoke(\n",
    "            f\"\"\"\n",
    "            You are a query rewriter for a retrieval system.\n",
    "            The user may ask follow-up questions that refer to earlier conversation.\n",
    "            Rewrite the current question so that it is fully self-contained and clear for a search engine.\n",
    "\n",
    "            Previous question: {x.get('last_question', '')}\n",
    "            Current question: {x['query']}\n",
    "\n",
    "            Strictly respond with the rewritten query and no additional text.\n",
    "            \"\"\"\n",
    "        ).content.strip()\n",
    "        if x.get(\"last_question\") else x[\"query\"]\n",
    "    }\n",
    ")"
   ],
   "id": "68fce1ef9c3723d4",
   "outputs": [],
   "execution_count": 39
  },
  {
   "metadata": {
    "ExecuteTime": {
     "end_time": "2025-08-09T10:01:18.709309Z",
     "start_time": "2025-08-09T10:01:18.673146Z"
    }
   },
   "cell_type": "code",
   "source": [
    "rag_chain = (\n",
    "    # rewrite the query to make it self-contained based on the last question asked\n",
    "    rewrite_query |\n",
    "    # retrieve relevant context based on the query ---> filter using llm_as_a_judge\n",
    "    RunnablePassthrough.assign(\n",
    "        context=lambda x: filter_retrieved_results_by_score(\n",
    "            results=query_retriever.invoke(x['query']),\n",
    "            query=x['query'],\n",
    "            llm=llm,\n",
    "            threshold=x['threshold'] if 'threshold' in x else 4\n",
    "        )\n",
    "    ) |\n",
    "    # prepare the input for the rag prompt\n",
    "    RunnableLambda(\n",
    "        lambda x: {\n",
    "            \"context\" : \"\\n\".join(x['context']) if x['context'] else \"No context provided\",\n",
    "            \"query\" : x['query']\n",
    "        }\n",
    "    ) |\n",
    "    rag_prompt |\n",
    "    llm\n",
    ")"
   ],
   "id": "e763893fe7548201",
   "outputs": [],
   "execution_count": 40
  },
  {
   "metadata": {
    "ExecuteTime": {
     "end_time": "2025-08-09T10:20:11.821924Z",
     "start_time": "2025-08-09T10:01:38.792174Z"
    }
   },
   "cell_type": "code",
   "source": [
    "last_question = None\n",
    "\n",
    "while True:\n",
    "    query = input()\n",
    "    print(f\"Human query: {query}\")\n",
    "\n",
    "    if query.lower() == \"exit\":\n",
    "        break\n",
    "\n",
    "    response = rag_chain.invoke({\n",
    "        \"query\": query,\n",
    "        \"last_question\": last_question,\n",
    "        \"threshold\": 4\n",
    "    }).content\n",
    "\n",
    "    last_question = query\n",
    "\n",
    "    print(\"AI response:\", response)\n",
    "    print(\"\\n\")"
   ],
   "id": "f6c96b579d35ab34",
   "outputs": [
    {
     "name": "stdout",
     "output_type": "stream",
     "text": [
      "Human query: What is the preamble of the Indian Constitution?\n",
      "AI response: The preamble of the Indian Constitution reads:\n",
      "\n",
      "\"THE CONSTITUTION OF INDIA PREAMB LEWE, THE PEOPLE OF INDIA, having solemnly resolved to constitute India into a 1[SOVEREIGN SOCIALIST SECULAR DEMOCRATIC REPUBLIC] and to secure to all its citizens:JUSTICE, social, economic and political; LIBERTY of thought, expression, belief, faith and worship;EQUALITY of status and of opportunity;and to promote among them allFRATERNITY assuring the dignity of the individual and the 2[unity and integrity of the Nation];IN OUR CONSTITUENT ASSEMBLY this twenty-sixth day of November, 1949, do HEREBY ADOPT, ENACT AND GIVE TO OURSELVES THIS CONSTITUTION.\"\n",
      "\n",
      "The preamble outlines the fundamental principles and objectives of the Indian Constitution, including justice, liberty, equality, and fraternity.\n",
      "\n",
      "\n",
      "Human query: When was it enacted to the Constitution?\n",
      "AI response: The preamble of the Indian Constitution was enacted on November 26, 1949.\n",
      "\n",
      "\n",
      "Human query: exit\n"
     ]
    }
   ],
   "execution_count": 41
  },
  {
   "metadata": {},
   "cell_type": "code",
   "outputs": [],
   "execution_count": null,
   "source": "",
   "id": "7b0f9b339f833ca8"
  },
  {
   "metadata": {},
   "cell_type": "code",
   "outputs": [],
   "execution_count": null,
   "source": "",
   "id": "d348b300611e52a3"
  },
  {
   "metadata": {},
   "cell_type": "code",
   "outputs": [],
   "execution_count": null,
   "source": "",
   "id": "86e1d8a9755c8575"
  }
 ],
 "metadata": {
  "kernelspec": {
   "display_name": "Python 3",
   "language": "python",
   "name": "python3"
  },
  "language_info": {
   "codemirror_mode": {
    "name": "ipython",
    "version": 2
   },
   "file_extension": ".py",
   "mimetype": "text/x-python",
   "name": "python",
   "nbconvert_exporter": "python",
   "pygments_lexer": "ipython2",
   "version": "2.7.6"
  }
 },
 "nbformat": 4,
 "nbformat_minor": 5
}
